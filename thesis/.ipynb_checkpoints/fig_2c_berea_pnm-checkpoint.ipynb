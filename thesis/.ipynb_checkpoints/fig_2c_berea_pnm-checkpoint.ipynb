{
 "cells": [
  {
   "cell_type": "markdown",
   "metadata": {},
   "source": [
    "# [fontainebleau 8](https://www.digitalrocksportal.org/projects/57/analysis_data/76/)\n",
    "\n",
    "\n",
    "> * resolution 5.7 μm\n",
    "> * porosity 8% \n",
    "> * size\n",
    "> * voxel 480 * 480 * 480\n",
    "> * image type 8-bit"
   ]
  },
  {
   "cell_type": "code",
   "execution_count": 1,
   "metadata": {},
   "outputs": [
    {
     "data": {
      "text/plain": [
       "0.0021379999999999997"
      ]
     },
     "execution_count": 1,
     "metadata": {},
     "output_type": "execute_result"
    }
   ],
   "source": [
    "side_len = 400 * 5.345 * 1e-6\n",
    "side_len"
   ]
  },
  {
   "cell_type": "code",
   "execution_count": 2,
   "metadata": {},
   "outputs": [],
   "source": [
    "from IPython.core.interactiveshell import InteractiveShell\n",
    "InteractiveShell.ast_node_interactivity = \"all\""
   ]
  },
  {
   "cell_type": "code",
   "execution_count": 3,
   "metadata": {},
   "outputs": [
    {
     "name": "stderr",
     "output_type": "stream",
     "text": [
      "E:\\program_files\\anaconda\\lib\\site-packages\\openpnm\\io\\Statoil.py:62: FutureWarning: read_table is deprecated, use read_csv instead.\n",
      "  index_col=0)\n"
     ]
    },
    {
     "name": "stdout",
     "output_type": "stream",
     "text": [
      "――――――――――――――――――――――――――――――――――――――――――――――――――――――――――――――――――――――――――――――\n",
      "openpnm.network.GenericNetwork : Berea\n",
      "――――――――――――――――――――――――――――――――――――――――――――――――――――――――――――――――――――――――――――――\n",
      "#     Properties                                    Valid Values\n",
      "――――――――――――――――――――――――――――――――――――――――――――――――――――――――――――――――――――――――――――――\n",
      "1     pore.area                                      6298 / 6298 \n",
      "2     pore.clay_volume                               6298 / 6298 \n",
      "3     pore.coords                                    6298 / 6298 \n",
      "4     pore.radius                                    6298 / 6298 \n",
      "5     pore.shape_factor                              6298 / 6298 \n",
      "6     pore.volume                                    6298 / 6298 \n",
      "7     throat.area                                   12098 / 12098\n",
      "8     throat.clay_volume                            12098 / 12098\n",
      "9     throat.conduit_lengths.pore1                  12098 / 12098\n",
      "10    throat.conduit_lengths.pore2                  12098 / 12098\n",
      "11    throat.conduit_lengths.throat                 12098 / 12098\n",
      "12    throat.conns                                  12098 / 12098\n",
      "13    throat.length                                 12098 / 12098\n",
      "14    throat.radius                                 12098 / 12098\n",
      "15    throat.shape_factor                           12098 / 12098\n",
      "16    throat.total_length                           12098 / 12098\n",
      "17    throat.volume                                 12098 / 12098\n",
      "――――――――――――――――――――――――――――――――――――――――――――――――――――――――――――――――――――――――――――――\n",
      "#     Labels                                        Assigned Locations\n",
      "――――――――――――――――――――――――――――――――――――――――――――――――――――――――――――――――――――――――――――――\n",
      "1     pore.all                                      6298      \n",
      "2     pore.inlets                                   201       \n",
      "3     pore.outlets                                  246       \n",
      "4     throat.all                                    12098     \n",
      "――――――――――――――――――――――――――――――――――――――――――――――――――――――――――――――――――――――――――――――\n"
     ]
    },
    {
     "name": "stderr",
     "output_type": "stream",
     "text": [
      "E:\\program_files\\anaconda\\lib\\site-packages\\openpnm\\io\\Statoil.py:79: FutureWarning: read_table is deprecated, use read_csv instead.\n",
      "  index_col=0)\n",
      "E:\\program_files\\anaconda\\lib\\site-packages\\openpnm\\io\\Statoil.py:120: FutureWarning: read_table is deprecated, use read_csv instead.\n",
      "  index_col=0)\n"
     ]
    },
    {
     "data": {
      "text/plain": [
       "['pore.area', 'pore.clay_volume', 'pore.coords', 'pore.radius', 'pore.shape_factor', 'pore.volume', 'throat.area', 'throat.clay_volume', 'throat.conduit_lengths.pore1', 'throat.conduit_lengths.pore2', 'throat.conduit_lengths.throat', 'throat.conns', 'throat.length', 'throat.radius', 'throat.shape_factor', 'throat.total_length', 'throat.volume']"
      ]
     },
     "execution_count": 3,
     "metadata": {},
     "output_type": "execute_result"
    }
   ],
   "source": [
    "import scipy as sp\n",
    "import openpnm as op\n",
    "from pathlib import Path\n",
    "\n",
    "# import PNM node and link file\n",
    "# 4 files in a folder: *_link1.dat, *_link2.dat, *_node1.dat, *_node2.dat \n",
    "# ref to https://github.com/PMEAL/OpenPNM/blob/dev/examples/io_and_visualization/Statoil%20Import%20and%20Permeability%20Calculation.ipynb\n",
    "path = Path(r'.\\berea')\n",
    "\n",
    "project = op.io.Statoil.load(path=path, prefix=r'Berea')\n",
    "pn = project.network\n",
    "pn.name = 'Berea'\n",
    "\n",
    "print(pn)\n",
    "pn.props()\n",
    "\n",
    "#project.export_data(phases=[pn], filename=r'.cores\\berea', filetype='vtp')"
   ]
  },
  {
   "cell_type": "code",
   "execution_count": 4,
   "metadata": {},
   "outputs": [
    {
     "data": {
      "text/plain": [
       "5.345e-06"
      ]
     },
     "execution_count": 4,
     "metadata": {},
     "output_type": "execute_result"
    },
    {
     "data": {
      "text/plain": [
       "0.00212731"
      ]
     },
     "execution_count": 4,
     "metadata": {},
     "output_type": "execute_result"
    },
    {
     "data": {
      "text/plain": [
       "5.345e-06"
      ]
     },
     "execution_count": 4,
     "metadata": {},
     "output_type": "execute_result"
    },
    {
     "data": {
      "text/plain": [
       "0.00212731"
      ]
     },
     "execution_count": 4,
     "metadata": {},
     "output_type": "execute_result"
    },
    {
     "data": {
      "text/plain": [
       "5.345e-06"
      ]
     },
     "execution_count": 4,
     "metadata": {},
     "output_type": "execute_result"
    },
    {
     "data": {
      "text/plain": [
       "0.00212731"
      ]
     },
     "execution_count": 4,
     "metadata": {},
     "output_type": "execute_result"
    },
    {
     "data": {
      "text/plain": [
       "0.002121965"
      ]
     },
     "execution_count": 4,
     "metadata": {},
     "output_type": "execute_result"
    },
    {
     "data": {
      "text/plain": [
       "0.1959983913381542"
      ]
     },
     "execution_count": 4,
     "metadata": {},
     "output_type": "execute_result"
    },
    {
     "data": {
      "text/plain": [
       "0.20047534086948013"
      ]
     },
     "execution_count": 4,
     "metadata": {},
     "output_type": "execute_result"
    },
    {
     "data": {
      "text/plain": [
       "0.00014049073999999998"
      ]
     },
     "execution_count": 4,
     "metadata": {},
     "output_type": "execute_result"
    },
    {
     "data": {
      "text/plain": [
       "3.071342897395999e-05"
      ]
     },
     "execution_count": 4,
     "metadata": {},
     "output_type": "execute_result"
    },
    {
     "data": {
      "text/plain": [
       "4.548324e-06"
      ]
     },
     "execution_count": 4,
     "metadata": {},
     "output_type": "execute_result"
    },
    {
     "data": {
      "text/plain": [
       "8.012916e-05"
      ]
     },
     "execution_count": 4,
     "metadata": {},
     "output_type": "execute_result"
    },
    {
     "data": {
      "text/plain": [
       "1.4021849391866423e-05"
      ]
     },
     "execution_count": 4,
     "metadata": {},
     "output_type": "execute_result"
    },
    {
     "data": {
      "text/plain": [
       "1.0724299999999999e-06"
      ]
     },
     "execution_count": 4,
     "metadata": {},
     "output_type": "execute_result"
    }
   ],
   "source": [
    "# network size\n",
    "pn['pore.coords'][:,0].min()\n",
    "pn['pore.coords'][:,0].max()\n",
    "\n",
    "pn['pore.coords'][:,1].min()\n",
    "pn['pore.coords'][:,1].max()\n",
    "\n",
    "pn['pore.coords'][:,2].min()\n",
    "pn['pore.coords'][:,2].max()\n",
    "\n",
    "len_pnm = pn['pore.coords'][:,0].max() - pn['pore.coords'][:,0].min()\n",
    "len_pnm\n",
    "\n",
    "# porosity\n",
    "len_pnm = pn['pore.coords'][:,0].max() - pn['pore.coords'][:,0].min()\n",
    "v = (side_len ** 3)\n",
    "p1 = (pn['pore.volume'].sum() + pn['throat.volume'].sum()) / v\n",
    "p1\n",
    "\n",
    "v = (len_pnm ** 3)\n",
    "p2 = (pn['pore.volume'].sum() + pn['throat.volume'].sum()) / v\n",
    "p2\n",
    "\n",
    "# pore and throat size\n",
    "pn['pore.diameter'] = 2 * pn['pore.radius']\n",
    "pn['throat.diameter'] = 2 * pn['throat.radius']\n",
    "\n",
    "pn['pore.diameter'].max()\n",
    "pn['pore.diameter'].mean()\n",
    "pn['pore.diameter'].min()\n",
    "\n",
    "pn['throat.diameter'].max()\n",
    "pn['throat.diameter'].mean()\n",
    "pn['throat.diameter'].min()"
   ]
  },
  {
   "cell_type": "code",
   "execution_count": 5,
   "metadata": {},
   "outputs": [
    {
     "data": {
      "text/plain": [
       "0"
      ]
     },
     "execution_count": 5,
     "metadata": {},
     "output_type": "execute_result"
    },
    {
     "data": {
      "text/plain": [
       "30"
      ]
     },
     "execution_count": 5,
     "metadata": {},
     "output_type": "execute_result"
    }
   ],
   "source": [
    "# pore coordination number\n",
    "import numpy as np\n",
    "\n",
    "def pore_coordination_num(throats=pn['throat.conns'], pore_num=pn.Np):\n",
    "    '''\n",
    "    calculate pore coordination number\n",
    "    parameters:\n",
    "        throats=pn['throat.conns']: array,(pn.Nt, 2), throat with their connected pores;\n",
    "        pore_num=pn.Np: nubmer of pores\n",
    "    '''\n",
    "    coordination = np.zeros(pn.Np)\n",
    "\n",
    "    for throat in throats:\n",
    "        coordination[throat[0]] += 1\n",
    "        coordination[throat[1]] += 1\n",
    "        \n",
    "    return (coordination.astype(int))  \n",
    "\n",
    "pn['pore.coordination_num'] = pore_coordination_num()\n",
    "pn['pore.coordination_num'].min()\n",
    "pn['pore.coordination_num'].max()"
   ]
  },
  {
   "cell_type": "code",
   "execution_count": 6,
   "metadata": {},
   "outputs": [
    {
     "data": {
      "image/png": "[encoded data removed]",
      "text/plain": [
       "<Figure size 2560x768 with 3 Axes>"
      ]
     },
     "metadata": {
      "needs_background": "light"
     },
     "output_type": "display_data"
    }
   ],
   "source": [
    "# plot\n",
    "import matplotlib.pyplot as plt\n",
    "plt.style.use(['science']) #  ref to https://github.com/garrettj403/SciencePlots for the style\n",
    "\n",
    "f_name = r'.\\cores\\berea'\n",
    "dia=pn['pore.diameter']\n",
    "throat_dia=pn['throat.diameter']\n",
    "throat_len=pn['throat.length']\n",
    "coordina=pn['pore.coordination_num']\n",
    "\n",
    "def pnm_statis(f_name, \n",
    "               dia=pn['pore.diameter'], \n",
    "               throat_dia=pn['throat.diameter'], \n",
    "               throat_len=pn['throat.length'], \n",
    "               coordina=pn['pore.coordination_num']): \n",
    "    '''\n",
    "    draw statistical info, including pore and throat diameter, throat length, pore coordination number\n",
    "    '''\n",
    "    \n",
    "    dia = dia * 1e4\n",
    "    throat_dia = throat_dia * 1e4\n",
    "    throat_len = throat_len * 1e4\n",
    "    \n",
    "    fig2, (ax1, ax2, ax3) = plt.subplots(1, 3, figsize=(20, 6), dpi=128)\n",
    "\n",
    "    # pore_diameter, throat_diameter\n",
    "    s1 = ax1.hist(dia, density=False, histtype='stepfilled',\n",
    "                  color='b', alpha=0.2, label='pore diameter ')\n",
    "    s2 = ax1.hist(throat_dia, density=False,\n",
    "                  histtype='stepfilled', color='r', alpha=0.2, label='throat diameter')\n",
    "\n",
    "    # throat_length\n",
    "    s3 = ax2.hist(throat_len, density=False,\n",
    "                  histtype='stepfilled', color='g', alpha=0.2, label='throat length')\n",
    "\n",
    "    # pore coordination number\n",
    "    s4 = ax3.hist(coordina, bins=pn['pore.coordination_num'].max(),\n",
    "                  density=False, histtype='stepfilled', color='m', alpha=0.2, label='pore coordination number')\n",
    "\n",
    "    # ax1\n",
    "    ax1.set_xlabel('pore and thraot diameter ($\\\\times$ 10$^{-4}$ m)', fontsize=15)\n",
    "    ax1.set_ylabel('count', fontsize=15)\n",
    "    ax1.set_title('pore and throat diameter diatribution', fontsize=15)\n",
    "    ax1.tick_params(labelsize=14)\n",
    "    ax1.legend(prop={'size': 14, }, loc='upper right')\n",
    "\n",
    "    # ax2\n",
    "    ax2.set_xlabel('throat length ($\\\\times$ 10$^{-4}$ m)', fontsize=15)\n",
    "    ax2.set_ylabel('count', fontsize=15)\n",
    "    ax2.set_title('throat length diatribution', fontsize=15)\n",
    "    ax2.tick_params(labelsize=14)\n",
    "    ax2.legend(prop={'size': 14, }, loc='upper right')\n",
    "\n",
    "    # ax3\n",
    "    ax3.set_xlabel('pore coordination number', fontsize=15)\n",
    "    ax3.set_ylabel('count', fontsize=15)\n",
    "    ax3.set_title('pore coordination number diatribution', fontsize=15)\n",
    "    ax3.tick_params(labelsize=14)\n",
    "    ax3.legend(prop={'size': 14, }, loc='upper right')\n",
    "    ax3.set_xticks(np.arange(0, pn['pore.coordination_num'].max()+1), 2)\n",
    "    #ax3.tick_params(axis='x', which='minor', reset=True, length=2)\n",
    "\n",
    "    #plt.savefig(f_name+'.png')\n",
    "    plt.show()\n",
    "    \n",
    "\n",
    "pnm_statis(f_name, \n",
    "           dia=pn['pore.diameter'], \n",
    "           throat_dia=pn['throat.diameter'], \n",
    "           throat_len=pn['throat.length'], \n",
    "           coordina=pn['pore.coordination_num'])"
   ]
  },
  {
   "cell_type": "code",
   "execution_count": 7,
   "metadata": {
    "scrolled": false
   },
   "outputs": [
    {
     "name": "stdout",
     "output_type": "stream",
     "text": [
      "――――――――――――――――――――――――――――――――――――――――――――――――――――――――――――――――――――――――――――――\n",
      "openpnm.network.GenericNetwork : Berea\n",
      "――――――――――――――――――――――――――――――――――――――――――――――――――――――――――――――――――――――――――――――\n",
      "#     Properties                                    Valid Values\n",
      "――――――――――――――――――――――――――――――――――――――――――――――――――――――――――――――――――――――――――――――\n",
      "1     pore.area                                      6004 / 6004 \n",
      "2     pore.clay_volume                               6004 / 6004 \n",
      "3     pore.coordination_num                          6004 / 6004 \n",
      "4     pore.coords                                    6004 / 6004 \n",
      "5     pore.diameter                                  6004 / 6004 \n",
      "6     pore.radius                                    6004 / 6004 \n",
      "7     pore.shape_factor                              6004 / 6004 \n",
      "8     pore.volume                                    6004 / 6004 \n",
      "9     throat.area                                   12067 / 12067\n",
      "10    throat.clay_volume                            12067 / 12067\n",
      "11    throat.conduit_lengths.pore1                  12067 / 12067\n",
      "12    throat.conduit_lengths.pore2                  12067 / 12067\n",
      "13    throat.conduit_lengths.throat                 12067 / 12067\n",
      "14    throat.conns                                  12067 / 12067\n",
      "15    throat.diameter                               12067 / 12067\n",
      "16    throat.length                                 12067 / 12067\n",
      "17    throat.radius                                 12067 / 12067\n",
      "18    throat.shape_factor                           12067 / 12067\n",
      "19    throat.total_length                           12067 / 12067\n",
      "20    throat.volume                                 12067 / 12067\n",
      "――――――――――――――――――――――――――――――――――――――――――――――――――――――――――――――――――――――――――――――\n",
      "#     Labels                                        Assigned Locations\n",
      "――――――――――――――――――――――――――――――――――――――――――――――――――――――――――――――――――――――――――――――\n",
      "1     pore.all                                      6004      \n",
      "2     pore.inlets                                   195       \n",
      "3     pore.outlets                                  227       \n",
      "4     throat.all                                    12067     \n",
      "――――――――――――――――――――――――――――――――――――――――――――――――――――――――――――――――――――――――――――――\n",
      "pore and throat size: \n"
     ]
    },
    {
     "data": {
      "text/plain": [
       "0.00014049073999999998"
      ]
     },
     "execution_count": 7,
     "metadata": {},
     "output_type": "execute_result"
    },
    {
     "data": {
      "text/plain": [
       "3.149129145769487e-05"
      ]
     },
     "execution_count": 7,
     "metadata": {},
     "output_type": "execute_result"
    },
    {
     "data": {
      "text/plain": [
       "4.548324e-06"
      ]
     },
     "execution_count": 7,
     "metadata": {},
     "output_type": "execute_result"
    },
    {
     "data": {
      "text/plain": [
       "8.012916e-05"
      ]
     },
     "execution_count": 7,
     "metadata": {},
     "output_type": "execute_result"
    },
    {
     "data": {
      "text/plain": [
       "1.4037168603878346e-05"
      ]
     },
     "execution_count": 7,
     "metadata": {},
     "output_type": "execute_result"
    },
    {
     "data": {
      "text/plain": [
       "1.0724299999999999e-06"
      ]
     },
     "execution_count": 7,
     "metadata": {},
     "output_type": "execute_result"
    },
    {
     "name": "stdout",
     "output_type": "stream",
     "text": [
      "porosity: \n"
     ]
    },
    {
     "data": {
      "text/plain": [
       "0.1953048913336655"
      ]
     },
     "execution_count": 7,
     "metadata": {},
     "output_type": "execute_result"
    },
    {
     "data": {
      "image/png": "[encoded data removed]",
      "text/plain": [
       "<Figure size 2560x768 with 3 Axes>"
      ]
     },
     "metadata": {
      "needs_background": "light"
     },
     "output_type": "display_data"
    },
    {
     "name": "stderr",
     "output_type": "stream",
     "text": [
      "―――――――――――――――――――――――――――――――――――――――――――――――――――――――――――――――――――――――\n",
      "    WARNING: Attempting to estimate inlet area...will be low \n",
      "    SOURCE: openpnm.algorithms.GenericTransport._get_domain_area \n",
      "    TIME STAMP: 2020-09-14 11:17:57,811    \n",
      "―――――――――――――――――――――――――――――――――――――――――――――――――――――――――――――――――――――――\n",
      "    ERROR: Detected inlet pores are not coplanar \n",
      "    SOURCE: openpnm.algorithms.GenericTransport._get_domain_area \n",
      "    TIME STAMP: 2020-09-14 11:17:57,812    \n",
      "―――――――――――――――――――――――――――――――――――――――――――――――――――――――――――――――――――――――\n",
      "    ERROR: Detected outlet pores are not coplanar \n",
      "    SOURCE: openpnm.algorithms.GenericTransport._get_domain_area \n",
      "    TIME STAMP: 2020-09-14 11:17:57,813    \n",
      "―――――――――――――――――――――――――――――――――――――――――――――――――――――――――――――――――――――――\n",
      "    WARNING: Detected inlets are not oriented along a principle axis \n",
      "    SOURCE: openpnm.algorithms.GenericTransport._get_domain_area \n",
      "    TIME STAMP: 2020-09-14 11:17:57,814    \n",
      "―――――――――――――――――――――――――――――――――――――――――――――――――――――――――――――――――――――――\n",
      "    WARNING: Detected outlets are not oriented along a principle axis \n",
      "    SOURCE: openpnm.algorithms.GenericTransport._get_domain_area \n",
      "    TIME STAMP: 2020-09-14 11:17:57,815    \n",
      "―――――――――――――――――――――――――――――――――――――――――――――――――――――――――――――――――――――――\n",
      "    ERROR: Inlet and outlet faces are different area \n",
      "    SOURCE: openpnm.algorithms.GenericTransport._get_domain_area \n",
      "    TIME STAMP: 2020-09-14 11:17:57,819    \n",
      "―――――――――――――――――――――――――――――――――――――――――――――――――――――――――――――――――――――――\n",
      "    WARNING: Attempting to estimate domain length... could be low if boundary pores were not added \n",
      "    SOURCE: openpnm.algorithms.GenericTransport._get_domain_length \n",
      "    TIME STAMP: 2020-09-14 11:17:57,820    \n",
      "―――――――――――――――――――――――――――――――――――――――――――――――――――――――――――――――――――――――\n",
      "    ERROR: Detected inlet pores are not coplanar \n",
      "    SOURCE: openpnm.algorithms.GenericTransport._get_domain_length \n",
      "    TIME STAMP: 2020-09-14 11:17:57,822    \n",
      "―――――――――――――――――――――――――――――――――――――――――――――――――――――――――――――――――――――――\n",
      "    ERROR: Detected inlet pores are not coplanar \n",
      "    SOURCE: openpnm.algorithms.GenericTransport._get_domain_length \n",
      "    TIME STAMP: 2020-09-14 11:17:57,823    \n",
      "―――――――――――――――――――――――――――――――――――――――――――――――――――――――――――――――――――――――\n",
      "    ERROR: A unique value of length could not be found \n",
      "    SOURCE: openpnm.algorithms.GenericTransport._get_domain_length \n",
      "    TIME STAMP: 2020-09-14 11:17:57,825    \n"
     ]
    },
    {
     "name": "stdout",
     "output_type": "stream",
     "text": [
      "{'Q': array([6.22057085e-07]), 'K_op1': array([2.15521891e-08]), 'K_op2': array([2.59876406e-12]), 'Porosity': 0.1953048913336655}\n"
     ]
    }
   ],
   "source": [
    "# trimming process\n",
    "net_health = pn.check_network_health()\n",
    "op.topotools.trim(network=pn, pores=net_health[\"trim_pores\"])\n",
    "print(pn)\n",
    "\n",
    "# re calculate pore and throat size\n",
    "print('pore and throat size: ')\n",
    "pn['pore.diameter'].max()\n",
    "pn['pore.diameter'].mean()\n",
    "pn['pore.diameter'].min()\n",
    "\n",
    "pn['throat.diameter'].max()\n",
    "pn['throat.diameter'].mean()\n",
    "pn['throat.diameter'].min()\n",
    "\n",
    "print('porosity: ')\n",
    "\n",
    "# re calculate porosity\n",
    "v = (side_len ** 3)\n",
    "p1 = (pn['pore.volume'].sum() + pn['throat.volume'].sum()) / v\n",
    "p1\n",
    "\n",
    "f_name = 'fonta_trim'\n",
    "pnm_statis(f_name, \n",
    "           dia=pn['pore.diameter'], \n",
    "           throat_dia=pn['throat.diameter'], \n",
    "           throat_len=pn['throat.length'], \n",
    "           coordina=pn['pore.coordination_num'])\n",
    "\n",
    "# phase\n",
    "water = op.phases.Water(network=pn)\n",
    "\n",
    "water.add_model(propname='throat.hydraulic_conductance',\n",
    "                model=op.models.physics.hydraulic_conductance.hagen_poiseuille)\n",
    "\n",
    "# stokes flow algorithm\n",
    "flow = op.algorithms.StokesFlow(network=pn, phase=water)\n",
    "flow.set_value_BC(pores=pn['pore.inlets'], values=200000)\n",
    "flow.set_value_BC(pores=pn['pore.outlets'], values=100000)\n",
    "flow.setup(phase= water, quantity='pore.pressure', conductance='throat.hydraulic_conductance')\n",
    "flow.run()\n",
    "\n",
    "\n",
    "Q1 = flow.rate(pores=pn['pore.inlets'])\n",
    "Q2 = flow.rate(pores=pn['pore.outlets'])\n",
    "\n",
    "K_op1 = flow.calc_effective_permeability(inlets=pn['pore.inlets'], outlets=pn['pore.outlets'])\n",
    "K_op2 = flow.calc_effective_permeability(inlets=pn['pore.inlets'], outlets=pn['pore.outlets'],\n",
    "                                    domain_area=side_len**2, domain_length=side_len)\n",
    "\n",
    "check = {'Q': Q1,\n",
    "         'K_op1': K_op1,\n",
    "         'K_op2': K_op2,\n",
    "         'Porosity': p1}\n",
    "\n",
    "print(check)\n",
    "\n",
    "#project.export_data(phases=[flow], filename=r'.cores\\fonta_water', filetype='vtp')"
   ]
  },
  {
   "cell_type": "code",
   "execution_count": null,
   "metadata": {},
   "outputs": [],
   "source": []
  }
 ],
 "metadata": {
  "kernelspec": {
   "display_name": "Python 3",
   "language": "python",
   "name": "python3"
  },
  "language_info": {
   "codemirror_mode": {
    "name": "ipython",
    "version": 3
   },
   "file_extension": ".py",
   "mimetype": "text/x-python",
   "name": "python",
   "nbconvert_exporter": "python",
   "pygments_lexer": "ipython3",
   "version": "3.7.3"
  },
  "latex_envs": {
   "LaTeX_envs_menu_present": true,
   "autoclose": false,
   "autocomplete": true,
   "bibliofile": "biblio.bib",
   "cite_by": "apalike",
   "current_citInitial": 1,
   "eqLabelWithNumbers": true,
   "eqNumInitial": 1,
   "hotkeys": {
    "equation": "Ctrl-E",
    "itemize": "Ctrl-I"
   },
   "labels_anchors": false,
   "latex_user_defs": false,
   "report_style_numbering": false,
   "user_envs_cfg": false
  },
  "toc": {
   "base_numbering": 1,
   "nav_menu": {},
   "number_sections": false,
   "sideBar": true,
   "skip_h1_title": false,
   "title_cell": "Table of Contents",
   "title_sidebar": "Contents",
   "toc_cell": false,
   "toc_position": {},
   "toc_section_display": true,
   "toc_window_display": false
  }
 },
 "nbformat": 4,
 "nbformat_minor": 2
}
