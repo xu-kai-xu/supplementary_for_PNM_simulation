{
 "cells": [
  {
   "cell_type": "markdown",
   "metadata": {},
   "source": [
    "# data pre-processing\n",
    "\n",
    "## load"
   ]
  },
  {
   "cell_type": "code",
   "execution_count": 1,
   "metadata": {},
   "outputs": [],
   "source": [
    "from IPython.core.interactiveshell import InteractiveShell\n",
    "InteractiveShell.ast_node_interactivity = 'all'\n",
    "\n",
    "import pandas as pd"
   ]
  },
  {
   "cell_type": "code",
   "execution_count": 2,
   "metadata": {},
   "outputs": [],
   "source": [
    "pnm_data = pd.read_excel(r'.\\train.xlsx', \n",
    "                         sheet_name='raw-data')"
   ]
  },
  {
   "cell_type": "code",
   "execution_count": 3,
   "metadata": {},
   "outputs": [
    {
     "data": {
      "text/plain": [
       "(46, 13)"
      ]
     },
     "execution_count": 3,
     "metadata": {},
     "output_type": "execute_result"
    }
   ],
   "source": [
    "pnm_data = pnm_data.values\n",
    "pnm_data.shape"
   ]
  },
  {
   "cell_type": "code",
   "execution_count": 4,
   "metadata": {},
   "outputs": [],
   "source": [
    "import numpy as np\n",
    "np.savetxt(r'.\\origin.txt', pnm_data)"
   ]
  },
  {
   "cell_type": "markdown",
   "metadata": {},
   "source": [
    "## data visualization"
   ]
  },
  {
   "cell_type": "code",
   "execution_count": 5,
   "metadata": {
    "scrolled": false
   },
   "outputs": [
    {
     "data": {
      "text/plain": [
       "{'whiskers': [<matplotlib.lines.Line2D at 0x20a01a83518>,\n",
       "  <matplotlib.lines.Line2D at 0x20a03ec8a20>,\n",
       "  <matplotlib.lines.Line2D at 0x20a03edae48>,\n",
       "  <matplotlib.lines.Line2D at 0x20a03edaef0>,\n",
       "  <matplotlib.lines.Line2D at 0x20a03ef45c0>,\n",
       "  <matplotlib.lines.Line2D at 0x20a03ef4908>,\n",
       "  <matplotlib.lines.Line2D at 0x20a03f01cf8>,\n",
       "  <matplotlib.lines.Line2D at 0x20a03f01da0>,\n",
       "  <matplotlib.lines.Line2D at 0x20a03f1a470>,\n",
       "  <matplotlib.lines.Line2D at 0x20a03f1a7b8>,\n",
       "  <matplotlib.lines.Line2D at 0x20a03f25ba8>,\n",
       "  <matplotlib.lines.Line2D at 0x20a03f25ef0>,\n",
       "  <matplotlib.lines.Line2D at 0x20a03f31f28>,\n",
       "  <matplotlib.lines.Line2D at 0x20a03f3f668>,\n",
       "  <matplotlib.lines.Line2D at 0x20a03f49a58>,\n",
       "  <matplotlib.lines.Line2D at 0x20a03f49da0>,\n",
       "  <matplotlib.lines.Line2D at 0x20a03f55ef0>,\n",
       "  <matplotlib.lines.Line2D at 0x20a03f60518>,\n",
       "  <matplotlib.lines.Line2D at 0x20a03f6e908>,\n",
       "  <matplotlib.lines.Line2D at 0x20a03f6ec50>,\n",
       "  <matplotlib.lines.Line2D at 0x20a03f78da0>,\n",
       "  <matplotlib.lines.Line2D at 0x20a03f853c8>,\n",
       "  <matplotlib.lines.Line2D at 0x20a03f8f7b8>,\n",
       "  <matplotlib.lines.Line2D at 0x20a03f8fb00>,\n",
       "  <matplotlib.lines.Line2D at 0x20a03f9fef0>,\n",
       "  <matplotlib.lines.Line2D at 0x20a03f9ff98>],\n",
       " 'caps': [<matplotlib.lines.Line2D at 0x20a03ec8d68>,\n",
       "  <matplotlib.lines.Line2D at 0x20a03ec8e48>,\n",
       "  <matplotlib.lines.Line2D at 0x20a03ee9518>,\n",
       "  <matplotlib.lines.Line2D at 0x20a03ee9860>,\n",
       "  <matplotlib.lines.Line2D at 0x20a03ef4c50>,\n",
       "  <matplotlib.lines.Line2D at 0x20a03ef4f98>,\n",
       "  <matplotlib.lines.Line2D at 0x20a03f0d3c8>,\n",
       "  <matplotlib.lines.Line2D at 0x20a03f0d710>,\n",
       "  <matplotlib.lines.Line2D at 0x20a03f1ab00>,\n",
       "  <matplotlib.lines.Line2D at 0x20a03f1ae48>,\n",
       "  <matplotlib.lines.Line2D at 0x20a03f25f98>,\n",
       "  <matplotlib.lines.Line2D at 0x20a03f315c0>,\n",
       "  <matplotlib.lines.Line2D at 0x20a03f3f9b0>,\n",
       "  <matplotlib.lines.Line2D at 0x20a03f3fcf8>,\n",
       "  <matplotlib.lines.Line2D at 0x20a03f49e48>,\n",
       "  <matplotlib.lines.Line2D at 0x20a03f55470>,\n",
       "  <matplotlib.lines.Line2D at 0x20a03f60860>,\n",
       "  <matplotlib.lines.Line2D at 0x20a03f60ba8>,\n",
       "  <matplotlib.lines.Line2D at 0x20a03f6ef98>,\n",
       "  <matplotlib.lines.Line2D at 0x20a03f6ef60>,\n",
       "  <matplotlib.lines.Line2D at 0x20a03f85710>,\n",
       "  <matplotlib.lines.Line2D at 0x20a03f85a58>,\n",
       "  <matplotlib.lines.Line2D at 0x20a03f8fe48>,\n",
       "  <matplotlib.lines.Line2D at 0x20a03f8fef0>,\n",
       "  <matplotlib.lines.Line2D at 0x20a03fa95c0>,\n",
       "  <matplotlib.lines.Line2D at 0x20a03fa9908>],\n",
       " 'boxes': [<matplotlib.lines.Line2D at 0x20a03ec82e8>,\n",
       "  <matplotlib.lines.Line2D at 0x20a03eb4f28>,\n",
       "  <matplotlib.lines.Line2D at 0x20a03ee9f60>,\n",
       "  <matplotlib.lines.Line2D at 0x20a03f01978>,\n",
       "  <matplotlib.lines.Line2D at 0x20a03f0de10>,\n",
       "  <matplotlib.lines.Line2D at 0x20a03f25828>,\n",
       "  <matplotlib.lines.Line2D at 0x20a03f31f60>,\n",
       "  <matplotlib.lines.Line2D at 0x20a03f496d8>,\n",
       "  <matplotlib.lines.Line2D at 0x20a03f55e10>,\n",
       "  <matplotlib.lines.Line2D at 0x20a03f6e5c0>,\n",
       "  <matplotlib.lines.Line2D at 0x20a03f78cc0>,\n",
       "  <matplotlib.lines.Line2D at 0x20a03f8f438>,\n",
       "  <matplotlib.lines.Line2D at 0x20a03f9fb70>],\n",
       " 'medians': [<matplotlib.lines.Line2D at 0x20a03eda438>,\n",
       "  <matplotlib.lines.Line2D at 0x20a03ee9ba8>,\n",
       "  <matplotlib.lines.Line2D at 0x20a03ef4f60>,\n",
       "  <matplotlib.lines.Line2D at 0x20a03f0da58>,\n",
       "  <matplotlib.lines.Line2D at 0x20a03f1aef0>,\n",
       "  <matplotlib.lines.Line2D at 0x20a03f31908>,\n",
       "  <matplotlib.lines.Line2D at 0x20a03f3fda0>,\n",
       "  <matplotlib.lines.Line2D at 0x20a03f557b8>,\n",
       "  <matplotlib.lines.Line2D at 0x20a03f60ef0>,\n",
       "  <matplotlib.lines.Line2D at 0x20a03f78668>,\n",
       "  <matplotlib.lines.Line2D at 0x20a03f85da0>,\n",
       "  <matplotlib.lines.Line2D at 0x20a03f9f518>,\n",
       "  <matplotlib.lines.Line2D at 0x20a03fa9c50>],\n",
       " 'fliers': [<matplotlib.lines.Line2D at 0x20a03eda780>,\n",
       "  <matplotlib.lines.Line2D at 0x20a03ee9ef0>,\n",
       "  <matplotlib.lines.Line2D at 0x20a03f01668>,\n",
       "  <matplotlib.lines.Line2D at 0x20a03f0dda0>,\n",
       "  <matplotlib.lines.Line2D at 0x20a03f25518>,\n",
       "  <matplotlib.lines.Line2D at 0x20a03f31c50>,\n",
       "  <matplotlib.lines.Line2D at 0x20a03f493c8>,\n",
       "  <matplotlib.lines.Line2D at 0x20a03f55b00>,\n",
       "  <matplotlib.lines.Line2D at 0x20a03f60f98>,\n",
       "  <matplotlib.lines.Line2D at 0x20a03f789b0>,\n",
       "  <matplotlib.lines.Line2D at 0x20a03f85e48>,\n",
       "  <matplotlib.lines.Line2D at 0x20a03f9f860>,\n",
       "  <matplotlib.lines.Line2D at 0x20a03fa9f98>],\n",
       " 'means': []}"
      ]
     },
     "execution_count": 5,
     "metadata": {},
     "output_type": "execute_result"
    }
   ],
   "source": [
    "import matplotlib.pyplot as plt\n",
    "\n",
    "plt.boxplot(pnm_data, meanline=True, vert=False,\n",
    "            labels=['PN', 'TN', \n",
    "                   'PD_min', 'PD_ave', 'PD_max',\n",
    "                   'TD_min', 'TD_ave', 'TD_max',\n",
    "                   'PCN_min', 'PCN_ave', 'PCN_max',\n",
    "                   'Phi', 'K'])"
   ]
  },
  {
   "cell_type": "code",
   "execution_count": 6,
   "metadata": {},
   "outputs": [],
   "source": [
    "import numpy as np\n",
    "\n",
    "correlation = np.corrcoef(pnm_data, rowvar=False)"
   ]
  },
  {
   "cell_type": "code",
   "execution_count": 7,
   "metadata": {},
   "outputs": [
    {
     "data": {
      "text/plain": [
       "(13, 13)"
      ]
     },
     "execution_count": 7,
     "metadata": {},
     "output_type": "execute_result"
    },
    {
     "data": {
      "text/plain": [
       "-0.08906817982621544"
      ]
     },
     "execution_count": 7,
     "metadata": {},
     "output_type": "execute_result"
    }
   ],
   "source": [
    "correlation.shape\n",
    "correlation.min()"
   ]
  },
  {
   "cell_type": "code",
   "execution_count": 21,
   "metadata": {},
   "outputs": [],
   "source": [
    "import seaborn as sns\n",
    "plt.style.use(['ager'])"
   ]
  },
  {
   "cell_type": "code",
   "execution_count": 51,
   "metadata": {
    "scrolled": true
   },
   "outputs": [],
   "source": [
    "x_ticks = ['PN', 'TN', \n",
    "           'PD\\_min', 'PD\\_mean', 'PD\\_max',\n",
    "           'TD\\_min', 'TD\\_mean', 'TD\\_max',\n",
    "           'PCN\\_min', 'PCN\\_mean', 'PCN\\_max',\n",
    "           '$\\phi$', '\\it{K}']\n",
    "y_ticks = ['PN', 'TN', \n",
    "           'PD\\_min', 'PD\\_mean', 'PD\\_max',\n",
    "           'TD\\_min', 'TD\\_mean', 'TD\\_max',\n",
    "           'PCN\\_min', 'PCN\\_mean', 'PCN\\_max',\n",
    "           '$\\phi$', '\\it{K}']"
   ]
  },
  {
   "cell_type": "markdown",
   "metadata": {},
   "source": [
    "### 相关关系热力图"
   ]
  },
  {
   "cell_type": "code",
   "execution_count": 73,
   "metadata": {
    "scrolled": false
   },
   "outputs": [
    {
     "data": {
      "text/plain": [
       "<matplotlib.axes._subplots.AxesSubplot at 0x20a202302e8>"
      ]
     },
     "execution_count": 73,
     "metadata": {},
     "output_type": "execute_result"
    },
    {
     "data": {
      "image/png": "[encoded data removed]",
      "text/plain": [
       "<Figure size 1280x1024 with 2 Axes>"
      ]
     },
     "metadata": {
      "needs_background": "light"
     },
     "output_type": "display_data"
    }
   ],
   "source": [
    "fig, ax = plt.subplots(figsize=(10, 8), dpi=128)\n",
    "#plt.figure(1)\n",
    "sns.heatmap(data=correlation, xticklabels=x_ticks, yticklabels=y_ticks, \n",
    "            square=True, cmap='coolwarm',\n",
    "            vmin=-1, vmax=1)\n",
    "\n",
    "ax.tick_params(labelsize=20)\n",
    "plt.minorticks_off()\n",
    "#plt.xticks(rotation=60)\n",
    "\n",
    "plt.show()\n",
    "fig.savefig('correlation.pdf',dpi=128,format='pdf')"
   ]
  },
  {
   "cell_type": "markdown",
   "metadata": {},
   "source": [
    "## 预处理之前画出每一个特征的分布情况"
   ]
  },
  {
   "cell_type": "code",
   "execution_count": 10,
   "metadata": {},
   "outputs": [
    {
     "data": {
      "text/plain": [
       "(46, 13)"
      ]
     },
     "execution_count": 10,
     "metadata": {},
     "output_type": "execute_result"
    }
   ],
   "source": [
    "pnm_data.shape"
   ]
  },
  {
   "cell_type": "code",
   "execution_count": 11,
   "metadata": {},
   "outputs": [],
   "source": [
    "import matplotlib.pyplot as plt"
   ]
  },
  {
   "cell_type": "code",
   "execution_count": 12,
   "metadata": {
    "scrolled": false
   },
   "outputs": [
    {
     "data": {
      "text/plain": [
       "(array([ 2., 11.,  6.,  8.,  0.,  0.,  1.,  2.,  9.,  7.]),\n",
       " array([ 73. , 110.8, 148.6, 186.4, 224.2, 262. , 299.8, 337.6, 375.4,\n",
       "        413.2, 451. ]),\n",
       " <a list of 10 Patch objects>)"
      ]
     },
     "execution_count": 12,
     "metadata": {},
     "output_type": "execute_result"
    },
    {
     "data": {
      "text/plain": [
       "Text(0.5, 1.0, 'PN')"
      ]
     },
     "execution_count": 12,
     "metadata": {},
     "output_type": "execute_result"
    },
    {
     "data": {
      "text/plain": [
       "(array([16.,  4.,  5., 12.,  1.,  0.,  0.,  0.,  4.,  4.]),\n",
       " array([ 116. ,  297.9,  479.8,  661.7,  843.6, 1025.5, 1207.4, 1389.3,\n",
       "        1571.2, 1753.1, 1935. ]),\n",
       " <a list of 10 Patch objects>)"
      ]
     },
     "execution_count": 12,
     "metadata": {},
     "output_type": "execute_result"
    },
    {
     "data": {
      "text/plain": [
       "Text(0.5, 1.0, 'TN')"
      ]
     },
     "execution_count": 12,
     "metadata": {},
     "output_type": "execute_result"
    },
    {
     "data": {
      "text/plain": [
       "(array([ 8.,  0., 10.,  4.,  0.,  0.,  4.,  4., 12.,  4.]),\n",
       " array([1.1040790e-05, 1.4317239e-05, 1.7593688e-05, 2.0870137e-05,\n",
       "        2.4146586e-05, 2.7423035e-05, 3.0699484e-05, 3.3975933e-05,\n",
       "        3.7252382e-05, 4.0528831e-05, 4.3805280e-05]),\n",
       " <a list of 10 Patch objects>)"
      ]
     },
     "execution_count": 12,
     "metadata": {},
     "output_type": "execute_result"
    },
    {
     "data": {
      "text/plain": [
       "Text(0.5, 1.0, 'PD_min')"
      ]
     },
     "execution_count": 12,
     "metadata": {},
     "output_type": "execute_result"
    },
    {
     "data": {
      "text/plain": [
       "(array([ 9., 11.,  2.,  2.,  6.,  0.,  8.,  0.,  2.,  6.]),\n",
       " array([2.51419016e-05, 3.65984918e-05, 4.80550819e-05, 5.95116720e-05,\n",
       "        7.09682621e-05, 8.24248523e-05, 9.38814424e-05, 1.05338033e-04,\n",
       "        1.16794623e-04, 1.28251213e-04, 1.39707803e-04]),\n",
       " <a list of 10 Patch objects>)"
      ]
     },
     "execution_count": 12,
     "metadata": {},
     "output_type": "execute_result"
    },
    {
     "data": {
      "text/plain": [
       "Text(0.5, 1.0, 'PD_ave')"
      ]
     },
     "execution_count": 12,
     "metadata": {},
     "output_type": "execute_result"
    },
    {
     "data": {
      "text/plain": [
       "(array([6., 7., 6., 4., 5., 6., 2., 3., 5., 2.]),\n",
       " array([8.78975800e-05, 1.06507622e-04, 1.25117664e-04, 1.43727706e-04,\n",
       "        1.62337748e-04, 1.80947790e-04, 1.99557832e-04, 2.18167874e-04,\n",
       "        2.36777916e-04, 2.55387958e-04, 2.73998000e-04]),\n",
       " <a list of 10 Patch objects>)"
      ]
     },
     "execution_count": 12,
     "metadata": {},
     "output_type": "execute_result"
    },
    {
     "data": {
      "text/plain": [
       "Text(0.5, 1.0, 'PD_max')"
      ]
     },
     "execution_count": 12,
     "metadata": {},
     "output_type": "execute_result"
    },
    {
     "data": {
      "text/plain": [
       "(array([ 8.,  0.,  0., 14.,  0.,  0.,  0.,  0.,  8., 16.]),\n",
       " array([2.7694440e-06, 3.4758082e-06, 4.1821724e-06, 4.8885366e-06,\n",
       "        5.5949008e-06, 6.3012650e-06, 7.0076292e-06, 7.7139934e-06,\n",
       "        8.4203576e-06, 9.1267218e-06, 9.8330860e-06]),\n",
       " <a list of 10 Patch objects>)"
      ]
     },
     "execution_count": 12,
     "metadata": {},
     "output_type": "execute_result"
    },
    {
     "data": {
      "text/plain": [
       "Text(0.5, 1.0, 'TD_min')"
      ]
     },
     "execution_count": 12,
     "metadata": {},
     "output_type": "execute_result"
    },
    {
     "data": {
      "text/plain": [
       "(array([ 9., 10.,  3.,  1.,  7.,  0.,  8.,  0.,  2.,  6.]),\n",
       " array([1.30971016e-05, 1.83528482e-05, 2.36085948e-05, 2.88643414e-05,\n",
       "        3.41200880e-05, 3.93758346e-05, 4.46315812e-05, 4.98873278e-05,\n",
       "        5.51430745e-05, 6.03988211e-05, 6.56545677e-05]),\n",
       " <a list of 10 Patch objects>)"
      ]
     },
     "execution_count": 12,
     "metadata": {},
     "output_type": "execute_result"
    },
    {
     "data": {
      "text/plain": [
       "Text(0.5, 1.0, 'TD_ave')"
      ]
     },
     "execution_count": 12,
     "metadata": {},
     "output_type": "execute_result"
    },
    {
     "data": {
      "text/plain": [
       "(array([7., 6., 6., 8., 3., 4., 5., 5., 1., 1.]),\n",
       " array([4.1162860e-05, 5.6724480e-05, 7.2286100e-05, 8.7847720e-05,\n",
       "        1.0340934e-04, 1.1897096e-04, 1.3453258e-04, 1.5009420e-04,\n",
       "        1.6565582e-04, 1.8121744e-04, 1.9677906e-04]),\n",
       " <a list of 10 Patch objects>)"
      ]
     },
     "execution_count": 12,
     "metadata": {},
     "output_type": "execute_result"
    },
    {
     "data": {
      "text/plain": [
       "Text(0.5, 1.0, 'TD_max')"
      ]
     },
     "execution_count": 12,
     "metadata": {},
     "output_type": "execute_result"
    },
    {
     "data": {
      "text/plain": [
       "(array([45.,  0.,  0.,  0.,  0.,  0.,  0.,  0.,  0.,  1.]),\n",
       " array([1. , 1.1, 1.2, 1.3, 1.4, 1.5, 1.6, 1.7, 1.8, 1.9, 2. ]),\n",
       " <a list of 10 Patch objects>)"
      ]
     },
     "execution_count": 12,
     "metadata": {},
     "output_type": "execute_result"
    },
    {
     "data": {
      "text/plain": [
       "Text(0.5, 1.0, 'PCN_min')"
      ]
     },
     "execution_count": 12,
     "metadata": {},
     "output_type": "execute_result"
    },
    {
     "data": {
      "text/plain": [
       "(array([15.,  9.,  6.,  0.,  0.,  0.,  5.,  3.,  0.,  8.]),\n",
       " array([2.92682927, 3.49606171, 4.06529415, 4.63452659, 5.20375903,\n",
       "        5.77299147, 6.34222391, 6.91145635, 7.48068879, 8.04992123,\n",
       "        8.61915367]),\n",
       " <a list of 10 Patch objects>)"
      ]
     },
     "execution_count": 12,
     "metadata": {},
     "output_type": "execute_result"
    },
    {
     "data": {
      "text/plain": [
       "Text(0.5, 1.0, 'PCN_ave')"
      ]
     },
     "execution_count": 12,
     "metadata": {},
     "output_type": "execute_result"
    },
    {
     "data": {
      "text/plain": [
       "(array([ 1.,  3.,  4.,  5., 12.,  3.,  6.,  6.,  3.,  3.]),\n",
       " array([ 8. ,  9.9, 11.8, 13.7, 15.6, 17.5, 19.4, 21.3, 23.2, 25.1, 27. ]),\n",
       " <a list of 10 Patch objects>)"
      ]
     },
     "execution_count": 12,
     "metadata": {},
     "output_type": "execute_result"
    },
    {
     "data": {
      "text/plain": [
       "Text(0.5, 1.0, 'PCN_max')"
      ]
     },
     "execution_count": 12,
     "metadata": {},
     "output_type": "execute_result"
    },
    {
     "data": {
      "text/plain": [
       "(array([ 2.,  0.,  5.,  7., 11.,  1.,  3.,  0.,  9.,  8.]),\n",
       " array([0.02947212, 0.06163026, 0.0937884 , 0.12594654, 0.15810467,\n",
       "        0.19026281, 0.22242095, 0.25457909, 0.28673723, 0.31889536,\n",
       "        0.3510535 ]),\n",
       " <a list of 10 Patch objects>)"
      ]
     },
     "execution_count": 12,
     "metadata": {},
     "output_type": "execute_result"
    },
    {
     "data": {
      "text/plain": [
       "Text(0.5, 1.0, 'Phi')"
      ]
     },
     "execution_count": 12,
     "metadata": {},
     "output_type": "execute_result"
    },
    {
     "data": {
      "text/plain": [
       "(array([30.,  0.,  0.,  0.,  0.,  0.,  7.,  1.,  4.,  4.]),\n",
       " array([2.59876693e-14, 1.66240159e-11, 3.32220441e-11, 4.98200723e-11,\n",
       "        6.64181005e-11, 8.30161287e-11, 9.96141569e-11, 1.16212185e-10,\n",
       "        1.32810213e-10, 1.49408241e-10, 1.66006270e-10]),\n",
       " <a list of 10 Patch objects>)"
      ]
     },
     "execution_count": 12,
     "metadata": {},
     "output_type": "execute_result"
    },
    {
     "data": {
      "text/plain": [
       "Text(0.5, 1.0, 'K')"
      ]
     },
     "execution_count": 12,
     "metadata": {},
     "output_type": "execute_result"
    },
    {
     "data": {
      "image/png": "[encoded data removed]",
      "text/plain": [
       "<Figure size 720x720 with 15 Axes>"
      ]
     },
     "metadata": {
      "needs_background": "light"
     },
     "output_type": "display_data"
    }
   ],
   "source": [
    "fig, axes = plt.subplots(nrows=3, ncols=5, figsize=(10, 10))\n",
    "axes = axes.flatten()[:13]\n",
    "\n",
    "titles = ['PN', 'TN', 'PD_min', 'PD_ave', 'PD_max', 'TD_min', 'TD_ave', \n",
    "         'TD_max', 'PCN_min', 'PCN_ave', 'PCN_max', 'Phi', 'K', ]\n",
    "\n",
    "for i in range(13):\n",
    "    axes[i].hist(pnm_data[:, i])\n",
    "    axes[i].set_title(titles[i], fontsize=10)\n",
    "    axes[i].tick_params(axis='both', which='major', labelsize=10)"
   ]
  },
  {
   "cell_type": "markdown",
   "metadata": {},
   "source": [
    "## 预处理之后画出每一个特征的分布"
   ]
  },
  {
   "cell_type": "code",
   "execution_count": 13,
   "metadata": {},
   "outputs": [],
   "source": [
    "import sklearn.preprocessing as preprocessing"
   ]
  },
  {
   "cell_type": "markdown",
   "metadata": {},
   "source": [
    "### z-score 标准化"
   ]
  },
  {
   "cell_type": "code",
   "execution_count": 14,
   "metadata": {},
   "outputs": [],
   "source": [
    "scaler = preprocessing.StandardScaler()\n",
    "data_fit = scaler.fit_transform(pnm_data)"
   ]
  },
  {
   "cell_type": "code",
   "execution_count": 15,
   "metadata": {},
   "outputs": [
    {
     "data": {
      "text/plain": [
       "array([[ 1.17621670e+00,  1.67292537e-01, -6.85630584e-01,\n",
       "        -7.60529416e-01, -1.05798251e+00, -6.49096794e-01,\n",
       "        -7.12537998e-01, -6.93909310e-01, -1.49071198e-01,\n",
       "        -5.23132854e-01, -4.36120948e-01, -4.20529857e-01,\n",
       "        -7.34250237e-01],\n",
       "       [ 1.25611329e+00,  3.52968869e-01, -6.85316640e-01,\n",
       "        -7.58136467e-01, -8.51476790e-01, -6.53884292e-01,\n",
       "        -7.83588368e-01, -6.77376448e-01, -1.49071198e-01,\n",
       "        -3.25632980e-01, -4.36120948e-01, -3.12283382e-01,\n",
       "        -7.19786560e-01],\n",
       "       [ 1.08034080e+00,  1.39716844e-01, -6.81866912e-01,\n",
       "        -7.88503702e-01, -4.52232665e-01, -6.54593690e-01,\n",
       "        -7.82018768e-01, -8.94069860e-01, -1.49071198e-01,\n",
       "        -5.01204792e-01, -2.22700058e-01, -4.49559294e-01,\n",
       "        -7.30341963e-01],\n",
       "       [ 8.00702744e-01,  1.13979531e-01, -6.79497734e-01,\n",
       "        -6.99355716e-01, -8.27944031e-01, -6.60110062e-01,\n",
       "        -7.10702118e-01, -6.06681723e-01, -1.49071198e-01,\n",
       "        -3.45036281e-01, -2.22700058e-01, -3.13157646e-01,\n",
       "        -7.09262845e-01],\n",
       "       [ 1.08034080e+00,  1.76484435e-01, -6.29872755e-01,\n",
       "        -7.74414495e-01, -9.36993513e-01, -6.46403780e-01,\n",
       "        -7.48521394e-01, -8.15915950e-01, -1.49071198e-01,\n",
       "        -4.49931169e-01,  6.30983499e-01, -3.73351333e-01,\n",
       "        -6.98260625e-01],\n",
       "       [ 1.30405124e+00,  1.67292537e-01, -6.85858740e-01,\n",
       "        -8.13553959e-01, -6.45959630e-01, -6.51061683e-01,\n",
       "        -7.75892345e-01, -1.08937408e+00, -1.49071198e-01,\n",
       "        -5.98263682e-01,  4.17562609e-01, -5.33011911e-01,\n",
       "        -7.31461909e-01],\n",
       "       [ 9.60495917e-01,  1.70969296e-01, -5.82885267e-01,\n",
       "        -7.66485616e-01, -9.32935671e-01, -6.50741069e-01,\n",
       "        -7.67820909e-01, -1.19390743e+00, -1.49071198e-01,\n",
       "        -3.76518522e-01,  4.17562609e-01, -4.31640821e-01,\n",
       "        -7.20046852e-01],\n",
       "       [ 1.04039250e+00,  1.72807676e-01, -6.83221250e-01,\n",
       "        -7.99971536e-01, -1.08697752e+00, -6.46106387e-01,\n",
       "        -7.74875217e-01, -1.03487231e-01, -1.49071198e-01,\n",
       "        -4.28691136e-01, -2.22700058e-01, -5.19780339e-01,\n",
       "        -7.23565408e-01],\n",
       "       [-8.05218638e-01, -8.34624306e-01, -1.56652926e+00,\n",
       "        -1.30096226e+00, -1.43283687e+00, -1.56074471e+00,\n",
       "        -1.30631783e+00, -1.50139346e+00, -1.49071198e-01,\n",
       "        -8.99716627e-01, -1.07638362e+00, -9.59843904e-01,\n",
       "        -7.61655539e-01],\n",
       "       [-1.15676362e+00, -9.48603837e-01, -1.50571164e+00,\n",
       "        -1.12044089e+00, -1.36327026e+00, -1.56604609e+00,\n",
       "        -1.13811253e+00, -1.25684152e+00, -1.49071198e-01,\n",
       "        -8.28986444e-01, -4.36120948e-01, -7.15136350e-01,\n",
       "        -5.73403387e-01],\n",
       "       [-8.45166931e-01, -8.27270788e-01, -1.51466305e+00,\n",
       "        -1.25579236e+00, -1.34712508e+00, -1.56366395e+00,\n",
       "        -1.28799984e+00, -1.36723933e+00, -1.49071198e-01,\n",
       "        -8.19955819e-01, -4.36120948e-01, -8.13277721e-01,\n",
       "        -7.59222431e-01],\n",
       "       [-1.06887737e+00, -8.43816203e-01, -1.56633249e+00,\n",
       "        -1.04885454e+00, -7.24406696e-01, -1.55190083e+00,\n",
       "        -1.04466250e+00, -1.17812770e+00, -1.49071198e-01,\n",
       "        -5.10471869e-01, -1.28980450e+00, -7.31836807e-01,\n",
       "        -7.42529393e-01],\n",
       "       [-9.01094542e-01, -7.94179956e-01, -1.51276022e+00,\n",
       "        -1.12147169e+00, -1.19042942e+00, -1.57167782e+00,\n",
       "        -1.06924311e+00, -2.86388471e-01, -1.49071198e-01,\n",
       "        -6.11998846e-01, -9.27916910e-03, -6.02916343e-02,\n",
       "        -5.29732439e-01],\n",
       "       [-6.45425466e-01, -6.94907462e-01, -1.53511391e+00,\n",
       "        -1.13346347e+00, -1.27969664e+00, -1.56864471e+00,\n",
       "        -1.15321028e+00, -9.37306345e-01, -1.49071198e-01,\n",
       "        -6.46206600e-01,  2.04141720e-01,  3.01968279e-01,\n",
       "        -7.32561346e-01],\n",
       "       [-1.10882567e+00, -9.30220041e-01, -1.56663914e+00,\n",
       "        -1.18536468e+00, -5.77661326e-01, -1.56477786e+00,\n",
       "        -1.24885123e+00, -9.88003992e-01, -1.49071198e-01,\n",
       "        -8.28523335e-01, -6.49541837e-01, -6.01243785e-01,\n",
       "        -7.33793991e-01],\n",
       "       [-6.69394442e-01, -5.99311726e-01, -1.51401837e+00,\n",
       "        -1.09677419e+00, -4.55050926e-01, -1.57161714e+00,\n",
       "        -1.09140759e+00, -1.10018876e+00, -1.49071198e-01,\n",
       "        -3.10985611e-01,  6.30983499e-01,  9.79794600e-01,\n",
       "        -6.47698283e-01],\n",
       "       [ 3.69261179e-01, -4.65110021e-01, -6.86966669e-01,\n",
       "        -5.28371088e-01, -3.92766801e-01, -6.49031623e-01,\n",
       "        -6.55370521e-01, -1.65322754e-01, -1.49071198e-01,\n",
       "        -1.00693760e+00, -8.62962726e-01,  1.02443066e-01,\n",
       "        -7.58597728e-01],\n",
       "       [ 7.84723427e-01, -6.06665244e-02, -6.31601270e-01,\n",
       "        -6.73585548e-01, -4.49159230e-01, -6.43376667e-01,\n",
       "        -6.48337380e-01,  6.77666318e-02, -1.49071198e-01,\n",
       "        -6.01919804e-01, -2.22700058e-01,  3.11547104e-01,\n",
       "        -7.62506190e-01],\n",
       "       [ 1.12028909e+00,  1.17656290e-01, -5.83463873e-01,\n",
       "        -8.54967067e-01, -3.33289596e-01, -6.52505948e-01,\n",
       "        -7.72006038e-01, -5.88647536e-01, -1.49071198e-01,\n",
       "        -5.56699426e-01,  8.44404388e-01, -3.93131555e-01,\n",
       "        -7.16884576e-01],\n",
       "       [-1.46037065e+00, -1.07361364e+00, -6.82628043e-01,\n",
       "        -7.24030089e-01, -1.11832580e+00, -6.19520830e-01,\n",
       "        -8.61181046e-01, -1.37871671e+00, -1.49071198e-01,\n",
       "        -8.97767640e-01, -2.14348806e+00, -2.11149828e+00,\n",
       "        -7.64211304e-01],\n",
       "       [-5.17590928e-01, -7.44543709e-01, -6.86966669e-01,\n",
       "        -9.89589011e-01, -1.47052066e+00, -6.48202369e-01,\n",
       "        -1.00128447e+00, -1.30994682e+00, -1.49071198e-01,\n",
       "        -9.42412981e-01, -8.62962726e-01, -1.93338872e+00,\n",
       "        -7.64652723e-01],\n",
       "       [-4.53673659e-01, -5.79089551e-01, -6.86632648e-01,\n",
       "        -6.09052901e-01,  1.07517986e+00, -6.55106074e-01,\n",
       "        -5.28982048e-01,  1.19079692e+00, -1.49071198e-01,\n",
       "        -5.51306079e-01, -2.22700058e-01, -3.88566320e-01,\n",
       "        -7.52068782e-01],\n",
       "       [-5.97487514e-01, -1.34201706e-01,  1.42353504e+00,\n",
       "         1.88862384e+00,  1.93864121e+00,  1.06373900e+00,\n",
       "         1.85531496e+00,  1.53822868e+00,  6.70820393e+00,\n",
       "         9.81778542e-01, -2.22700058e-01,  8.97997151e-01,\n",
       "         1.60115827e+00],\n",
       "       [-4.77642635e-01, -9.00805969e-02,  9.55270035e-01,\n",
       "         1.66765827e+00,  1.39181172e+00,  1.06478249e+00,\n",
       "         1.68780824e+00,  1.15561560e+00, -1.49071198e-01,\n",
       "         8.38776426e-01, -9.27916910e-03,  9.24301989e-01,\n",
       "         1.54956213e+00],\n",
       "       [-5.97487514e-01, -1.21333049e-01,  1.15610810e+00,\n",
       "         1.78054908e+00,  1.52424539e+00,  1.02883993e+00,\n",
       "         1.79779753e+00,  1.48270040e+00, -1.49071198e-01,\n",
       "         1.02054537e+00, -2.22700058e-01,  9.93287932e-01,\n",
       "         1.90609833e+00],\n",
       "       [-5.17590928e-01, -9.19189764e-02,  9.55270035e-01,\n",
       "         1.64499437e+00,  2.04711494e+00,  1.07198883e+00,\n",
       "         1.66880544e+00,  1.05981445e+00, -1.49071198e-01,\n",
       "         9.20685273e-01,  8.44404388e-01,  9.25460560e-01,\n",
       "         1.77345523e+00],\n",
       "       [-5.17590928e-01, -7.53735607e-02,  1.41572843e+00,\n",
       "         1.75485032e+00,  1.67916844e+00,  1.06473979e+00,\n",
       "         1.70751654e+00,  2.34374351e+00, -1.49071198e-01,\n",
       "         9.67918749e-01,  1.05782528e+00,  9.27124291e-01,\n",
       "         1.38451187e+00],\n",
       "       [-3.33828780e-01, -1.10302772e-02,  9.55270035e-01,\n",
       "         1.41827139e+00,  1.23814375e+00,  1.02922272e+00,\n",
       "         1.45215251e+00,  1.34991565e+00, -1.49071198e-01,\n",
       "         7.60150309e-01,  4.17562609e-01,  8.29854369e-01,\n",
       "         1.46254251e+00],\n",
       "       [-4.37694342e-01,  0.00000000e+00,  9.56321380e-01,\n",
       "         1.65730333e+00,  1.53819871e+00,  1.04059405e+00,\n",
       "         1.64596594e+00,  1.74307803e+00, -1.49071198e-01,\n",
       "         1.00032159e+00,  6.30983499e-01,  9.67551867e-01,\n",
       "         1.86191192e+00],\n",
       "       [-4.61663318e-01, -6.25049040e-02,  9.55270035e-01,\n",
       "         1.53982802e+00,  1.26439837e+00,  1.04358446e+00,\n",
       "         1.53659219e+00,  1.49797409e+00, -1.49071198e-01,\n",
       "         8.81085489e-01,  8.44404388e-01,  9.27309590e-01,\n",
       "         1.79335520e+00],\n",
       "       [ 1.25611329e+00,  1.85124818e+00,  9.57389153e-01,\n",
       "         7.93086705e-01,  2.94620741e-01,  1.03582379e+00,\n",
       "         7.89724725e-01,  1.10613315e+00, -1.49071198e-01,\n",
       "         1.65246742e+00,  1.05782528e+00,  1.40000443e+00,\n",
       "         9.76857562e-01],\n",
       "       [ 1.00843387e+00,  1.61961236e+00,  9.57389153e-01,\n",
       "         8.73091774e-01,  3.95936356e-01,  1.04149297e+00,\n",
       "         8.92262830e-01,  8.81163671e-01, -1.49071198e-01,\n",
       "         1.65805233e+00,  1.05782528e+00,  1.43848400e+00,\n",
       "         1.22744546e+00],\n",
       "       [ 1.40791680e+00,  2.02957100e+00,  1.15073273e+00,\n",
       "         7.48943795e-01,  4.89151032e-01,  1.06208723e+00,\n",
       "         7.06783783e-01,  5.63124878e-01, -1.49071198e-01,\n",
       "         1.69532401e+00,  1.48466706e+00,  1.37454847e+00,\n",
       "         8.44285741e-01],\n",
       "       [ 1.26410294e+00,  1.84940981e+00,  9.57389153e-01,\n",
       "         7.29177566e-01,  7.91202783e-01,  1.07400916e+00,\n",
       "         6.95926953e-01,  1.06091104e+00, -1.49071198e-01,\n",
       "         1.64003870e+00,  1.27124617e+00,  1.33290561e+00,\n",
       "         9.99374147e-01],\n",
       "       [ 1.37595816e+00,  2.02037910e+00,  1.06159285e+00,\n",
       "         8.21418274e-01,  7.32127052e-01,  1.03326261e+00,\n",
       "         7.53631967e-01,  3.34305720e-01, -1.49071198e-01,\n",
       "         1.72273472e+00,  1.91150883e+00,  1.51045779e+00,\n",
       "         9.97020295e-01],\n",
       "       [ 1.32802021e+00,  1.90823795e+00,  1.06694449e+00,\n",
       "         7.58029335e-01,  2.74787067e-01,  1.05835297e+00,\n",
       "         7.69377872e-01,  2.94164792e-01, -1.49071198e-01,\n",
       "         1.63774367e+00,  1.48466706e+00,  1.41745037e+00,\n",
       "         1.09095821e+00],\n",
       "       [ 1.54374100e+00,  2.27039872e+00,  9.57723175e-01,\n",
       "         6.93073315e-01,  1.30255477e-01,  1.04246755e+00,\n",
       "         6.86365727e-01,  7.56435076e-01, -1.49071198e-01,\n",
       "         1.82929560e+00,  1.91150883e+00,  1.52800704e+00,\n",
       "         1.01032650e+00],\n",
       "       [ 1.55972031e+00,  2.19502516e+00,  9.57389153e-01,\n",
       "         6.49961157e-01,  3.06567821e-01,  1.04049367e+00,\n",
       "         6.40534109e-01,  5.13245597e-01, -1.49071198e-01,\n",
       "         1.71901132e+00,  1.91150883e+00,  1.35025115e+00,\n",
       "         9.04878409e-01],\n",
       "       [-9.96970445e-01, -8.73230276e-01,  8.13398595e-01,\n",
       "         5.09654056e-02,  5.09706377e-01,  6.05723548e-01,\n",
       "        -1.91918564e-02, -5.04474488e-01, -1.49071198e-01,\n",
       "        -7.68943130e-01, -2.22700058e-01, -1.07715164e+00,\n",
       "        -7.01574248e-01],\n",
       "       [-1.17274293e+00, -9.50442216e-01,  5.84152295e-01,\n",
       "         1.22436158e-01,  1.47109349e+00,  6.03050010e-01,\n",
       "         9.66225150e-02, -2.72793522e-01, -1.49071198e-01,\n",
       "        -8.07694054e-01, -1.28980450e+00, -9.96996747e-01,\n",
       "        -6.78907608e-01],\n",
       "       [-1.02093942e+00, -9.28381662e-01,  4.92729022e-01,\n",
       "        -3.58496570e-02,  4.25495457e-02,  6.05603692e-01,\n",
       "         4.64883312e-02, -1.51852918e-02, -1.49071198e-01,\n",
       "        -9.63528642e-01, -8.62962726e-01, -1.17579692e+00,\n",
       "        -6.95723834e-01],\n",
       "       [-1.06088771e+00, -9.55957355e-01,  4.96715375e-01,\n",
       "         9.79725090e-02, -3.47082628e-01,  5.84590689e-01,\n",
       "         1.60658529e-01, -7.40983076e-03, -1.49071198e-01,\n",
       "        -1.02369552e+00, -1.50322539e+00, -1.16605208e+00,\n",
       "        -7.24566028e-01],\n",
       "       [-1.03691874e+00, -9.30220041e-01,  4.98794338e-01,\n",
       "         6.72439843e-02, -1.71767543e-01,  6.08322176e-01,\n",
       "         1.84724510e-01,  5.78278478e-01, -1.49071198e-01,\n",
       "        -9.47244625e-01, -1.50322539e+00, -7.96262433e-01,\n",
       "        -6.74385689e-01],\n",
       "       [-1.07686703e+00, -9.46765457e-01,  5.02140027e-01,\n",
       "         1.63894301e-01,  3.06949638e-01,  6.10796453e-01,\n",
       "         1.91512176e-01, -1.11647165e-01, -1.49071198e-01,\n",
       "        -9.58027354e-01, -6.49541837e-01, -9.30100973e-01,\n",
       "        -7.10389162e-01],\n",
       "       [-8.85115224e-01, -8.67715137e-01,  6.64518184e-01,\n",
       "        -1.98108855e-02,  6.42378656e-02,  5.81693170e-01,\n",
       "         2.15064019e-03, -5.37991980e-02, -1.49071198e-01,\n",
       "        -9.14434838e-01, -1.28980450e+00, -1.13577811e+00,\n",
       "        -7.16143114e-01],\n",
       "       [-8.93104883e-01, -8.87937312e-01,  6.62406366e-01,\n",
       "        -6.20416659e-02, -6.01958030e-02,  6.03553406e-01,\n",
       "        -8.66026324e-02, -4.19241420e-01, -1.49071198e-01,\n",
       "        -9.80061270e-01, -1.50322539e+00, -1.10108110e+00,\n",
       "        -7.15557622e-01]])"
      ]
     },
     "execution_count": 15,
     "metadata": {},
     "output_type": "execute_result"
    }
   ],
   "source": [
    "data_fit"
   ]
  },
  {
   "cell_type": "code",
   "execution_count": 16,
   "metadata": {},
   "outputs": [],
   "source": [
    "import numpy as np\n",
    "np.savetxt(r'.\\data-fit.txt', data_fit)"
   ]
  },
  {
   "cell_type": "code",
   "execution_count": 17,
   "metadata": {
    "scrolled": false
   },
   "outputs": [
    {
     "data": {
      "text/plain": [
       "(array([ 2., 11.,  6.,  8.,  0.,  0.,  1.,  2.,  9.,  7.]),\n",
       " array([-1.46037065, -1.15836155, -0.85635245, -0.55434336, -0.25233426,\n",
       "         0.04967483,  0.35168393,  0.65369303,  0.95570212,  1.25771122,\n",
       "         1.55972031]),\n",
       " <a list of 10 Patch objects>)"
      ]
     },
     "execution_count": 17,
     "metadata": {},
     "output_type": "execute_result"
    },
    {
     "data": {
      "text/plain": [
       "Text(0.5, 1.0, 'PN')"
      ]
     },
     "execution_count": 17,
     "metadata": {},
     "output_type": "execute_result"
    },
    {
     "data": {
      "text/plain": [
       "(array([16.,  4.,  5., 12.,  1.,  0.,  0.,  0.,  4.,  4.]),\n",
       " array([-1.07361364, -0.73921241, -0.40481117, -0.07040994,  0.2639913 ,\n",
       "         0.59839254,  0.93279377,  1.26719501,  1.60159624,  1.93599748,\n",
       "         2.27039872]),\n",
       " <a list of 10 Patch objects>)"
      ]
     },
     "execution_count": 17,
     "metadata": {},
     "output_type": "execute_result"
    },
    {
     "data": {
      "text/plain": [
       "Text(0.5, 1.0, 'TN')"
      ]
     },
     "execution_count": 17,
     "metadata": {},
     "output_type": "execute_result"
    },
    {
     "data": {
      "text/plain": [
       "(array([ 8.,  0., 10.,  4.,  0.,  0.,  4.,  4., 12.,  4.]),\n",
       " array([-1.56663914, -1.26762172, -0.9686043 , -0.66958688, -0.37056947,\n",
       "        -0.07155205,  0.22746537,  0.52648279,  0.8255002 ,  1.12451762,\n",
       "         1.42353504]),\n",
       " <a list of 10 Patch objects>)"
      ]
     },
     "execution_count": 17,
     "metadata": {},
     "output_type": "execute_result"
    },
    {
     "data": {
      "text/plain": [
       "Text(0.5, 1.0, 'PD_min')"
      ]
     },
     "execution_count": 17,
     "metadata": {},
     "output_type": "execute_result"
    },
    {
     "data": {
      "text/plain": [
       "(array([ 9., 11.,  2.,  2.,  6.,  0.,  8.,  0.,  2.,  6.]),\n",
       " array([-1.30096226, -0.98200365, -0.66304504, -0.34408643, -0.02512782,\n",
       "         0.29383079,  0.6127894 ,  0.93174801,  1.25070662,  1.56966523,\n",
       "         1.88862384]),\n",
       " <a list of 10 Patch objects>)"
      ]
     },
     "execution_count": 17,
     "metadata": {},
     "output_type": "execute_result"
    },
    {
     "data": {
      "text/plain": [
       "Text(0.5, 1.0, 'PD_ave')"
      ]
     },
     "execution_count": 17,
     "metadata": {},
     "output_type": "execute_result"
    },
    {
     "data": {
      "text/plain": [
       "(array([6., 7., 6., 4., 5., 6., 2., 3., 5., 2.]),\n",
       " array([-1.47052066, -1.1187571 , -0.76699354, -0.41522998, -0.06346642,\n",
       "         0.28829714,  0.6400607 ,  0.99182426,  1.34358782,  1.69535138,\n",
       "         2.04711494]),\n",
       " <a list of 10 Patch objects>)"
      ]
     },
     "execution_count": 17,
     "metadata": {},
     "output_type": "execute_result"
    },
    {
     "data": {
      "text/plain": [
       "Text(0.5, 1.0, 'PD_max')"
      ]
     },
     "execution_count": 17,
     "metadata": {},
     "output_type": "execute_result"
    },
    {
     "data": {
      "text/plain": [
       "(array([ 8.,  0.,  0., 14.,  0.,  0.,  0.,  0.,  8., 16.]),\n",
       " array([-1.57167782, -1.30710912, -1.04254042, -0.77797173, -0.51340303,\n",
       "        -0.24883433,  0.01573437,  0.28030306,  0.54487176,  0.80944046,\n",
       "         1.07400916]),\n",
       " <a list of 10 Patch objects>)"
      ]
     },
     "execution_count": 17,
     "metadata": {},
     "output_type": "execute_result"
    },
    {
     "data": {
      "text/plain": [
       "Text(0.5, 1.0, 'TD_min')"
      ]
     },
     "execution_count": 17,
     "metadata": {},
     "output_type": "execute_result"
    },
    {
     "data": {
      "text/plain": [
       "(array([ 9., 10.,  3.,  1.,  7.,  0.,  8.,  0.,  2.,  6.]),\n",
       " array([-1.30631783, -0.99015455, -0.67399127, -0.35782799, -0.04166471,\n",
       "         0.27449856,  0.59066184,  0.90682512,  1.2229884 ,  1.53915168,\n",
       "         1.85531496]),\n",
       " <a list of 10 Patch objects>)"
      ]
     },
     "execution_count": 17,
     "metadata": {},
     "output_type": "execute_result"
    },
    {
     "data": {
      "text/plain": [
       "Text(0.5, 1.0, 'TD_ave')"
      ]
     },
     "execution_count": 17,
     "metadata": {},
     "output_type": "execute_result"
    },
    {
     "data": {
      "text/plain": [
       "(array([7., 6., 6., 8., 3., 4., 5., 5., 1., 1.]),\n",
       " array([-1.50139346, -1.11687976, -0.73236607, -0.34785237,  0.03666133,\n",
       "         0.42117503,  0.80568872,  1.19020242,  1.57471612,  1.95922981,\n",
       "         2.34374351]),\n",
       " <a list of 10 Patch objects>)"
      ]
     },
     "execution_count": 17,
     "metadata": {},
     "output_type": "execute_result"
    },
    {
     "data": {
      "text/plain": [
       "Text(0.5, 1.0, 'TD_max')"
      ]
     },
     "execution_count": 17,
     "metadata": {},
     "output_type": "execute_result"
    },
    {
     "data": {
      "text/plain": [
       "(array([45.,  0.,  0.,  0.,  0.,  0.,  0.,  0.,  0.,  1.]),\n",
       " array([-0.1490712 ,  0.53665631,  1.22238383,  1.90811134,  2.59383885,\n",
       "         3.27956637,  3.96529388,  4.65102139,  5.33674891,  6.02247642,\n",
       "         6.70820393]),\n",
       " <a list of 10 Patch objects>)"
      ]
     },
     "execution_count": 17,
     "metadata": {},
     "output_type": "execute_result"
    },
    {
     "data": {
      "text/plain": [
       "Text(0.5, 1.0, 'PCN_min')"
      ]
     },
     "execution_count": 17,
     "metadata": {},
     "output_type": "execute_result"
    },
    {
     "data": {
      "text/plain": [
       "(array([15.,  9.,  6.,  0.,  0.,  0.,  5.,  3.,  0.,  8.]),\n",
       " array([-1.02369552, -0.73839641, -0.4530973 , -0.16779819,  0.11750093,\n",
       "         0.40280004,  0.68809915,  0.97339826,  1.25869737,  1.54399649,\n",
       "         1.8292956 ]),\n",
       " <a list of 10 Patch objects>)"
      ]
     },
     "execution_count": 17,
     "metadata": {},
     "output_type": "execute_result"
    },
    {
     "data": {
      "text/plain": [
       "Text(0.5, 1.0, 'PCN_ave')"
      ]
     },
     "execution_count": 17,
     "metadata": {},
     "output_type": "execute_result"
    },
    {
     "data": {
      "text/plain": [
       "(array([ 1.,  3.,  4.,  5., 12.,  3.,  6.,  6.,  3.,  3.]),\n",
       " array([-2.14348806, -1.73798837, -1.33248868, -0.92698899, -0.5214893 ,\n",
       "        -0.11598961,  0.28951008,  0.69500977,  1.10050946,  1.50600914,\n",
       "         1.91150883]),\n",
       " <a list of 10 Patch objects>)"
      ]
     },
     "execution_count": 17,
     "metadata": {},
     "output_type": "execute_result"
    },
    {
     "data": {
      "text/plain": [
       "Text(0.5, 1.0, 'PCN_max')"
      ]
     },
     "execution_count": 17,
     "metadata": {},
     "output_type": "execute_result"
    },
    {
     "data": {
      "text/plain": [
       "(array([ 2.,  0.,  5.,  7., 11.,  1.,  3.,  0.,  9.,  8.]),\n",
       " array([-2.11149828, -1.74754775, -1.38359722, -1.01964668, -0.65569615,\n",
       "        -0.29174562,  0.07220491,  0.43615545,  0.80010598,  1.16405651,\n",
       "         1.52800704]),\n",
       " <a list of 10 Patch objects>)"
      ]
     },
     "execution_count": 17,
     "metadata": {},
     "output_type": "execute_result"
    },
    {
     "data": {
      "text/plain": [
       "Text(0.5, 1.0, 'Phi')"
      ]
     },
     "execution_count": 17,
     "metadata": {},
     "output_type": "execute_result"
    },
    {
     "data": {
      "text/plain": [
       "(array([30.,  0.,  0.,  0.,  0.,  0.,  7.,  1.,  4.,  4.]),\n",
       " array([-0.76465272, -0.49757762, -0.23050251,  0.03657259,  0.3036477 ,\n",
       "         0.5707228 ,  0.83779791,  1.10487302,  1.37194812,  1.63902323,\n",
       "         1.90609833]),\n",
       " <a list of 10 Patch objects>)"
      ]
     },
     "execution_count": 17,
     "metadata": {},
     "output_type": "execute_result"
    },
    {
     "data": {
      "text/plain": [
       "Text(0.5, 1.0, 'K')"
      ]
     },
     "execution_count": 17,
     "metadata": {},
     "output_type": "execute_result"
    },
    {
     "data": {
      "image/png": "[encoded data removed]",
      "text/plain": [
       "<Figure size 720x720 with 15 Axes>"
      ]
     },
     "metadata": {
      "needs_background": "light"
     },
     "output_type": "display_data"
    }
   ],
   "source": [
    "fig, axes = plt.subplots(nrows=3, ncols=5, figsize=(10, 10))\n",
    "axes = axes.flatten()[:13]\n",
    "\n",
    "for i in range(13):\n",
    "    axes[i].hist(data_fit[:, i])\n",
    "    axes[i].set_title(titles[i], fontsize=10)\n",
    "    axes[i].tick_params(axis='both', which='major', labelsize=10)\n",
    "    \n",
    "plt.show()"
   ]
  },
  {
   "cell_type": "markdown",
   "metadata": {},
   "source": [
    "### 最大最小规范化"
   ]
  },
  {
   "cell_type": "code",
   "execution_count": 18,
   "metadata": {},
   "outputs": [],
   "source": [
    "scaler_0_1 = preprocessing.MinMaxScaler()\n",
    "data_fit_0_1 = scaler_0_1.fit_transform(pnm_data)"
   ]
  },
  {
   "cell_type": "code",
   "execution_count": 19,
   "metadata": {
    "scrolled": false
   },
   "outputs": [
    {
     "data": {
      "text/plain": [
       "(array([ 2., 11.,  6.,  8.,  0.,  0.,  1.,  2.,  9.,  7.]),\n",
       " array([0. , 0.1, 0.2, 0.3, 0.4, 0.5, 0.6, 0.7, 0.8, 0.9, 1. ]),\n",
       " <a list of 10 Patch objects>)"
      ]
     },
     "execution_count": 19,
     "metadata": {},
     "output_type": "execute_result"
    },
    {
     "data": {
      "text/plain": [
       "Text(0.5, 1.0, 'PN')"
      ]
     },
     "execution_count": 19,
     "metadata": {},
     "output_type": "execute_result"
    },
    {
     "data": {
      "text/plain": [
       "(array([16.,  4.,  5., 12.,  1.,  0.,  0.,  0.,  4.,  4.]),\n",
       " array([0. , 0.1, 0.2, 0.3, 0.4, 0.5, 0.6, 0.7, 0.8, 0.9, 1. ]),\n",
       " <a list of 10 Patch objects>)"
      ]
     },
     "execution_count": 19,
     "metadata": {},
     "output_type": "execute_result"
    },
    {
     "data": {
      "text/plain": [
       "Text(0.5, 1.0, 'TN')"
      ]
     },
     "execution_count": 19,
     "metadata": {},
     "output_type": "execute_result"
    },
    {
     "data": {
      "text/plain": [
       "(array([ 8.,  0., 10.,  4.,  0.,  0.,  4.,  4., 12.,  4.]),\n",
       " array([0. , 0.1, 0.2, 0.3, 0.4, 0.5, 0.6, 0.7, 0.8, 0.9, 1. ]),\n",
       " <a list of 10 Patch objects>)"
      ]
     },
     "execution_count": 19,
     "metadata": {},
     "output_type": "execute_result"
    },
    {
     "data": {
      "text/plain": [
       "Text(0.5, 1.0, 'PD_min')"
      ]
     },
     "execution_count": 19,
     "metadata": {},
     "output_type": "execute_result"
    },
    {
     "data": {
      "text/plain": [
       "(array([ 9., 11.,  2.,  2.,  6.,  0.,  8.,  0.,  2.,  6.]),\n",
       " array([0. , 0.1, 0.2, 0.3, 0.4, 0.5, 0.6, 0.7, 0.8, 0.9, 1. ]),\n",
       " <a list of 10 Patch objects>)"
      ]
     },
     "execution_count": 19,
     "metadata": {},
     "output_type": "execute_result"
    },
    {
     "data": {
      "text/plain": [
       "Text(0.5, 1.0, 'PD_ave')"
      ]
     },
     "execution_count": 19,
     "metadata": {},
     "output_type": "execute_result"
    },
    {
     "data": {
      "text/plain": [
       "(array([6., 7., 6., 4., 5., 6., 2., 3., 5., 2.]),\n",
       " array([0. , 0.1, 0.2, 0.3, 0.4, 0.5, 0.6, 0.7, 0.8, 0.9, 1. ]),\n",
       " <a list of 10 Patch objects>)"
      ]
     },
     "execution_count": 19,
     "metadata": {},
     "output_type": "execute_result"
    },
    {
     "data": {
      "text/plain": [
       "Text(0.5, 1.0, 'PD_max')"
      ]
     },
     "execution_count": 19,
     "metadata": {},
     "output_type": "execute_result"
    },
    {
     "data": {
      "text/plain": [
       "(array([ 8.,  0.,  0., 14.,  0.,  0.,  0.,  0.,  8., 16.]),\n",
       " array([0. , 0.1, 0.2, 0.3, 0.4, 0.5, 0.6, 0.7, 0.8, 0.9, 1. ]),\n",
       " <a list of 10 Patch objects>)"
      ]
     },
     "execution_count": 19,
     "metadata": {},
     "output_type": "execute_result"
    },
    {
     "data": {
      "text/plain": [
       "Text(0.5, 1.0, 'TD_min')"
      ]
     },
     "execution_count": 19,
     "metadata": {},
     "output_type": "execute_result"
    },
    {
     "data": {
      "text/plain": [
       "(array([ 9., 10.,  3.,  1.,  7.,  0.,  8.,  0.,  2.,  6.]),\n",
       " array([0. , 0.1, 0.2, 0.3, 0.4, 0.5, 0.6, 0.7, 0.8, 0.9, 1. ]),\n",
       " <a list of 10 Patch objects>)"
      ]
     },
     "execution_count": 19,
     "metadata": {},
     "output_type": "execute_result"
    },
    {
     "data": {
      "text/plain": [
       "Text(0.5, 1.0, 'TD_ave')"
      ]
     },
     "execution_count": 19,
     "metadata": {},
     "output_type": "execute_result"
    },
    {
     "data": {
      "text/plain": [
       "(array([7., 6., 6., 8., 3., 4., 5., 5., 1., 1.]),\n",
       " array([0. , 0.1, 0.2, 0.3, 0.4, 0.5, 0.6, 0.7, 0.8, 0.9, 1. ]),\n",
       " <a list of 10 Patch objects>)"
      ]
     },
     "execution_count": 19,
     "metadata": {},
     "output_type": "execute_result"
    },
    {
     "data": {
      "text/plain": [
       "Text(0.5, 1.0, 'TD_max')"
      ]
     },
     "execution_count": 19,
     "metadata": {},
     "output_type": "execute_result"
    },
    {
     "data": {
      "text/plain": [
       "(array([45.,  0.,  0.,  0.,  0.,  0.,  0.,  0.,  0.,  1.]),\n",
       " array([0. , 0.1, 0.2, 0.3, 0.4, 0.5, 0.6, 0.7, 0.8, 0.9, 1. ]),\n",
       " <a list of 10 Patch objects>)"
      ]
     },
     "execution_count": 19,
     "metadata": {},
     "output_type": "execute_result"
    },
    {
     "data": {
      "text/plain": [
       "Text(0.5, 1.0, 'PCN_min')"
      ]
     },
     "execution_count": 19,
     "metadata": {},
     "output_type": "execute_result"
    },
    {
     "data": {
      "text/plain": [
       "(array([15.,  9.,  6.,  0.,  0.,  0.,  5.,  3.,  0.,  8.]),\n",
       " array([0. , 0.1, 0.2, 0.3, 0.4, 0.5, 0.6, 0.7, 0.8, 0.9, 1. ]),\n",
       " <a list of 10 Patch objects>)"
      ]
     },
     "execution_count": 19,
     "metadata": {},
     "output_type": "execute_result"
    },
    {
     "data": {
      "text/plain": [
       "Text(0.5, 1.0, 'PCN_ave')"
      ]
     },
     "execution_count": 19,
     "metadata": {},
     "output_type": "execute_result"
    },
    {
     "data": {
      "text/plain": [
       "(array([ 1.,  3.,  4.,  5., 12.,  3.,  6.,  6.,  3.,  3.]),\n",
       " array([0. , 0.1, 0.2, 0.3, 0.4, 0.5, 0.6, 0.7, 0.8, 0.9, 1. ]),\n",
       " <a list of 10 Patch objects>)"
      ]
     },
     "execution_count": 19,
     "metadata": {},
     "output_type": "execute_result"
    },
    {
     "data": {
      "text/plain": [
       "Text(0.5, 1.0, 'PCN_max')"
      ]
     },
     "execution_count": 19,
     "metadata": {},
     "output_type": "execute_result"
    },
    {
     "data": {
      "text/plain": [
       "(array([ 2.,  0.,  5.,  7., 11.,  1.,  3.,  0.,  9.,  8.]),\n",
       " array([0. , 0.1, 0.2, 0.3, 0.4, 0.5, 0.6, 0.7, 0.8, 0.9, 1. ]),\n",
       " <a list of 10 Patch objects>)"
      ]
     },
     "execution_count": 19,
     "metadata": {},
     "output_type": "execute_result"
    },
    {
     "data": {
      "text/plain": [
       "Text(0.5, 1.0, 'Phi')"
      ]
     },
     "execution_count": 19,
     "metadata": {},
     "output_type": "execute_result"
    },
    {
     "data": {
      "text/plain": [
       "(array([30.,  0.,  0.,  0.,  0.,  0.,  7.,  1.,  4.,  4.]),\n",
       " array([0. , 0.1, 0.2, 0.3, 0.4, 0.5, 0.6, 0.7, 0.8, 0.9, 1. ]),\n",
       " <a list of 10 Patch objects>)"
      ]
     },
     "execution_count": 19,
     "metadata": {},
     "output_type": "execute_result"
    },
    {
     "data": {
      "text/plain": [
       "Text(0.5, 1.0, 'K')"
      ]
     },
     "execution_count": 19,
     "metadata": {},
     "output_type": "execute_result"
    },
    {
     "data": {
      "image/png": "[encoded data removed]",
      "text/plain": [
       "<Figure size 720x720 with 15 Axes>"
      ]
     },
     "metadata": {
      "needs_background": "light"
     },
     "output_type": "display_data"
    }
   ],
   "source": [
    "fig, axes = plt.subplots(nrows=3, ncols=5, figsize=(10, 10))\n",
    "axes = axes.flatten()[:13]\n",
    "\n",
    "for i in range(13):\n",
    "    axes[i].hist(data_fit_0_1[:, i])\n",
    "    axes[i].set_title(titles[i], fontsize=10)\n",
    "    axes[i].tick_params(axis='both', which='major', labelsize=10)\n",
    "    \n",
    "plt.show()"
   ]
  },
  {
   "cell_type": "code",
   "execution_count": 20,
   "metadata": {},
   "outputs": [],
   "source": [
    "np.savetxt(r'.\\data-fit-0-1.txt', data_fit_0_1)"
   ]
  },
  {
   "cell_type": "markdown",
   "metadata": {},
   "source": [
    "## 准备用 0 1 之间的标准化数据进行后续处理"
   ]
  },
  {
   "cell_type": "code",
   "execution_count": null,
   "metadata": {},
   "outputs": [],
   "source": []
  }
 ],
 "metadata": {
  "kernelspec": {
   "display_name": "Python 3",
   "language": "python",
   "name": "python3"
  },
  "language_info": {
   "codemirror_mode": {
    "name": "ipython",
    "version": 3
   },
   "file_extension": ".py",
   "mimetype": "text/x-python",
   "name": "python",
   "nbconvert_exporter": "python",
   "pygments_lexer": "ipython3",
   "version": "3.7.3"
  },
  "latex_envs": {
   "LaTeX_envs_menu_present": true,
   "autoclose": false,
   "autocomplete": true,
   "bibliofile": "biblio.bib",
   "cite_by": "apalike",
   "current_citInitial": 1,
   "eqLabelWithNumbers": true,
   "eqNumInitial": 1,
   "hotkeys": {
    "equation": "Ctrl-E",
    "itemize": "Ctrl-I"
   },
   "labels_anchors": false,
   "latex_user_defs": false,
   "report_style_numbering": false,
   "user_envs_cfg": false
  },
  "toc": {
   "base_numbering": 1,
   "nav_menu": {},
   "number_sections": false,
   "sideBar": true,
   "skip_h1_title": false,
   "title_cell": "Table of Contents",
   "title_sidebar": "Contents",
   "toc_cell": false,
   "toc_position": {},
   "toc_section_display": true,
   "toc_window_display": true
  }
 },
 "nbformat": 4,
 "nbformat_minor": 2
}
