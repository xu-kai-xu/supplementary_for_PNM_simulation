{
 "cells": [
  {
   "cell_type": "markdown",
   "metadata": {},
   "source": [
    "# 对两个模型计算缺项，判断非均质性\n",
    "\n",
    "## 模型：\n",
    "* cubic-half-5，对应论文中图3.1b；\n",
    "<img src=\"./figs/图3-1-b-half.png\" height=\"400\" width=\"400\" />\n",
    "\n",
    "* cubic-half-5-f，对应论文中图3.a2a。\n",
    "<img src=\"./figs/图3-2-a-half_f_pre.png\" height=\"500\" width=\"500\" />\n",
    "\n",
    "## 入口流量可视化结果\n",
    "\n",
    "* 单向通道模型，对应论文中图4.5a；\n",
    "<img src=\"./figs/图4-5-a-cubic-half-5.png\" height=\"400\" width=\"400\" />\n",
    "\n",
    "* 全连通模型，对应论文中图4.5b。\n",
    "<img src=\"./figs/图4-5-b_cubic-half-5-f.png\" height=\"400\" width=\"400\" />\n",
    "\n",
    "\n",
    "## 入口流量分布数据\n",
    "\n",
    "入口流量数据如由对应模型的生成和模拟算法导出，模型生成和模拟的具体算法没有包括在部分代码片段中。"
   ]
  },
  {
   "cell_type": "code",
   "execution_count": 1,
   "metadata": {},
   "outputs": [],
   "source": [
    "from IPython.core.interactiveshell import InteractiveShell\n",
    "InteractiveShell.ast_node_interactivity = 'all'\n",
    "\n",
    "import numpy as np"
   ]
  },
  {
   "cell_type": "code",
   "execution_count": 2,
   "metadata": {},
   "outputs": [],
   "source": [
    "# q_u 表示单向通道模型入口流量\n",
    "q_u = np.array([[6.18888795e-09, 6.18888795e-09, 6.18888795e-09, 6.18888795e-09,\n",
    "        6.18888795e-09, 1.90824045e-08, 1.90824045e-08, 1.90824045e-08,\n",
    "        1.90824045e-08, 1.90824045e-08],\n",
    "       [6.18888795e-09, 6.18888795e-09, 6.18888795e-09, 6.18888795e-09,\n",
    "        6.18888795e-09, 1.90824045e-08, 1.90824045e-08, 1.90824045e-08,\n",
    "        1.90824045e-08, 1.90824045e-08],\n",
    "       [6.18888795e-09, 6.18888795e-09, 6.18888795e-09, 6.18888795e-09,\n",
    "        6.18888795e-09, 1.90824045e-08, 1.90824045e-08, 1.90824045e-08,\n",
    "        1.90824045e-08, 1.90824045e-08],\n",
    "       [6.18888795e-09, 6.18888795e-09, 6.18888795e-09, 6.18888795e-09,\n",
    "        6.18888795e-09, 1.90824045e-08, 1.90824045e-08, 1.90824045e-08,\n",
    "        1.90824045e-08, 1.90824045e-08],\n",
    "       [6.18888795e-09, 6.18888795e-09, 6.18888795e-09, 6.18888795e-09,\n",
    "        6.18888795e-09, 1.90824045e-08, 1.90824045e-08, 1.90824045e-08,\n",
    "        1.90824045e-08, 1.90824045e-08],\n",
    "       [6.18888795e-09, 6.18888795e-09, 6.18888795e-09, 6.18888795e-09,\n",
    "        6.18888795e-09, 1.90824045e-08, 1.90824045e-08, 1.90824045e-08,\n",
    "        1.90824045e-08, 1.90824045e-08],\n",
    "       [6.18888795e-09, 6.18888795e-09, 6.18888795e-09, 6.18888795e-09,\n",
    "        6.18888795e-09, 1.90824045e-08, 1.90824045e-08, 1.90824045e-08,\n",
    "        1.90824045e-08, 1.90824045e-08],\n",
    "       [6.18888795e-09, 6.18888795e-09, 6.18888795e-09, 6.18888795e-09,\n",
    "        6.18888795e-09, 1.90824045e-08, 1.90824045e-08, 1.90824045e-08,\n",
    "        1.90824045e-08, 1.90824045e-08],\n",
    "       [6.18888795e-09, 6.18888795e-09, 6.18888795e-09, 6.18888795e-09,\n",
    "        6.18888795e-09, 1.90824045e-08, 1.90824045e-08, 1.90824045e-08,\n",
    "        1.90824045e-08, 1.90824045e-08],\n",
    "       [6.18888795e-09, 6.18888795e-09, 6.18888795e-09, 6.18888795e-09,\n",
    "        6.18888795e-09, 1.90824045e-08, 1.90824045e-08, 1.90824045e-08,\n",
    "        1.90824045e-08, 1.90824045e-08]])"
   ]
  },
  {
   "cell_type": "code",
   "execution_count": 3,
   "metadata": {},
   "outputs": [
    {
     "data": {
      "text/plain": [
       "(10, 10)"
      ]
     },
     "execution_count": 3,
     "metadata": {},
     "output_type": "execute_result"
    }
   ],
   "source": [
    "q_u.shape"
   ]
  },
  {
   "cell_type": "code",
   "execution_count": 4,
   "metadata": {},
   "outputs": [],
   "source": [
    "# q_f 表示全连通模型入口流量\n",
    "q_f = np.array([[9.26545122e-09, 9.64574949e-09, 1.04177154e-08, 1.15769663e-08,\n",
    "        1.30436700e-08, 1.45899993e-08, 1.58777438e-08, 1.67892573e-08,\n",
    "        1.73471184e-08, 1.76075964e-08],\n",
    "       [9.26545122e-09, 9.64574949e-09, 1.04177154e-08, 1.15769663e-08,\n",
    "        1.30436700e-08, 1.45899993e-08, 1.58777438e-08, 1.67892573e-08,\n",
    "        1.73471184e-08, 1.76075964e-08],\n",
    "       [9.26545122e-09, 9.64574949e-09, 1.04177154e-08, 1.15769663e-08,\n",
    "        1.30436700e-08, 1.45899993e-08, 1.58777438e-08, 1.67892573e-08,\n",
    "        1.73471184e-08, 1.76075964e-08],\n",
    "       [9.26545122e-09, 9.64574949e-09, 1.04177154e-08, 1.15769663e-08,\n",
    "        1.30436700e-08, 1.45899993e-08, 1.58777438e-08, 1.67892573e-08,\n",
    "        1.73471184e-08, 1.76075964e-08],\n",
    "       [9.26545122e-09, 9.64574949e-09, 1.04177154e-08, 1.15769663e-08,\n",
    "        1.30436700e-08, 1.45899993e-08, 1.58777438e-08, 1.67892573e-08,\n",
    "        1.73471184e-08, 1.76075964e-08],\n",
    "       [9.26545122e-09, 9.64574949e-09, 1.04177154e-08, 1.15769663e-08,\n",
    "        1.30436700e-08, 1.45899993e-08, 1.58777438e-08, 1.67892573e-08,\n",
    "        1.73471184e-08, 1.76075964e-08],\n",
    "       [9.26545122e-09, 9.64574949e-09, 1.04177154e-08, 1.15769663e-08,\n",
    "        1.30436700e-08, 1.45899993e-08, 1.58777438e-08, 1.67892573e-08,\n",
    "        1.73471184e-08, 1.76075964e-08],\n",
    "       [9.26545122e-09, 9.64574949e-09, 1.04177154e-08, 1.15769663e-08,\n",
    "        1.30436700e-08, 1.45899993e-08, 1.58777438e-08, 1.67892573e-08,\n",
    "        1.73471184e-08, 1.76075964e-08],\n",
    "       [9.26545122e-09, 9.64574949e-09, 1.04177154e-08, 1.15769663e-08,\n",
    "        1.30436700e-08, 1.45899993e-08, 1.58777438e-08, 1.67892573e-08,\n",
    "        1.73471184e-08, 1.76075964e-08],\n",
    "       [9.26545122e-09, 9.64574949e-09, 1.04177154e-08, 1.15769663e-08,\n",
    "        1.30436700e-08, 1.45899993e-08, 1.58777438e-08, 1.67892573e-08,\n",
    "        1.73471184e-08, 1.76075964e-08]])"
   ]
  },
  {
   "cell_type": "code",
   "execution_count": 5,
   "metadata": {},
   "outputs": [
    {
     "data": {
      "text/plain": [
       "(10, 10)"
      ]
     },
     "execution_count": 5,
     "metadata": {},
     "output_type": "execute_result"
    }
   ],
   "source": [
    "q_f.shape"
   ]
  },
  {
   "cell_type": "code",
   "execution_count": 6,
   "metadata": {},
   "outputs": [],
   "source": [
    "import numpy as np\n",
    "import scipy as sp\n",
    "import matplotlib.pyplot as plt"
   ]
  },
  {
   "cell_type": "markdown",
   "metadata": {},
   "source": [
    "## 缺项计算（lacunarity）\n",
    "\n",
    "参考资料\n",
    "\n",
    "* 蔡建超, 胡祥云. 多孔介质分形理论与应用[M]. 北京: 科学出版社, 2015. \n",
    "* Allain C., Cloitre M. Characterizing the lacunarity of random and deterministic fractal sets[J]. Physical Review A, 1991, 44(6): 3552-3558. \n",
    "* [维基百科 **lacunarity**](https://en.wikipedia.org/wiki/Lacunarity#:~:text=Lacunarity%2C%20from%20the%20Latin%20lacuna,gaps%20generally%20have%20higher%20lacunarity.)\n",
    "* [ImageJ 软件文档对 lacunarity 的解释。](https://imagej.nih.gov/ij/plugins/fraclac/FLHelp/Lacunarity.htm)"
   ]
  },
  {
   "cell_type": "markdown",
   "metadata": {},
   "source": [
    "### 基本原理\n",
    "\n",
    "缺项可以用来定量描述对象在空间中分布的集群（clustering）程度的强弱。我们可以根据对象集群程度的不同，来判断它们的非均质性。\n",
    "下图为 [ImageJ 网站](https://imagej.nih.gov/ij/plugins/fraclac/FLHelp/Lacunarity.htm)上的一张关于缺项的图片。\n",
    "\n",
    "根据图中对象的分布和缺项值，我们可以直观地认为，\n",
    "> 集群程度越高，非均质性越强，缺项值越大；\n",
    ">\n",
    "> 集群程度越低，缺项值越小，非均质性却弱。\n",
    "\n",
    "但是以上对比仅限于图中对象具有相同的最基本元素。下面的图中，同一行的图具有相同的基本组成元素。而同一列的图片虽然缺项值相等，但由于基本组成元素不同，所以也不好判断它们的非均质性。\n",
    "\n",
    "![imageJ网站关于缺项的图片](figs/lacunarity_imageJ.png)"
   ]
  },
  {
   "cell_type": "markdown",
   "metadata": {},
   "source": [
    "### 计算公式\n",
    "\n",
    "缺项计算公式：\n",
    "\n",
    "$$\n",
    "    Z_{Q}^{(q)}(r)=\\sum_{M} M^{q} Q(M, r)\n",
    "$$\n",
    "\n",
    "$$\n",
    "    \\Lambda(r)=\\frac{Z_{Q}^{(2)}(r)}{\\left[Z_{Q}^{(1)}(r)\\right]^{2}}\n",
    "$$\n",
    "\n",
    "与方差的关系：\n",
    "\n",
    "$$\n",
    "    \\frac{VAR(X)}{E^2(X)} = \\frac{E(X^2)}{E^2(X)} - \\frac{E^2(X)}{E^2(X)} = \\Lambda (X) - 1 >= 0\n",
    "$$"
   ]
  },
  {
   "cell_type": "markdown",
   "metadata": {},
   "source": [
    "公式（1）是原点矩（ statistical moment，又翻译为动差函数）计算方法。此处的原点矩为离散形式（连续形式为[积分](https://zh.wikipedia.org/wiki/%E7%9F%A9_(%E6%95%B8%E5%AD%B8))），其中 $Z_{Q}^{(q)}(r)$ 为原点矩，$M$ 为随机变量，$q$ 表示矩的阶数，$Q$ 为概率，$r$ 为观察尺度，即计数的盒子的大小。\n",
    "\n",
    "由公式（2）为缺项表达式，$\\Lambda(r)$ 为观测尺度为 $r$ 时的缺项值。由公式（2）可知，缺项即为同一尺度下的二阶矩与一阶矩平方的商。这是从纯粹的统计学角度去思考缺项含义的结果。直观地可以理解为，在某一观测尺度下，当对象的不同部分之间差别更大时，缺项值相对较大；当对象的不同部分之间的差别更小时，缺项值更小。\n",
    "\n",
    "公式（3）是我根据方差与矩的关系得到的一个结果，该结果表明，缺项值应当是大于等于 1 的。\n",
    "\n",
    "关于缺项的物理意义，我的思考暂时就到这里。以下为根据以上公式写的计算缺项的代码。"
   ]
  },
  {
   "cell_type": "markdown",
   "metadata": {},
   "source": [
    "### 单向通道模型"
   ]
  },
  {
   "cell_type": "code",
   "execution_count": 7,
   "metadata": {},
   "outputs": [],
   "source": [
    "lacus_box = np.zeros((9,))\n",
    "\n",
    "# 遍历前8个盒子\n",
    "for i in range(1, 9):\n",
    "    box_length = i+1\n",
    "    lacus = []\n",
    "    \n",
    "    # 一定大小的盒子遍历一定位置\n",
    "    for j in range(10-i):\n",
    "        for k in range(10-i):\n",
    "            array = [q_u[m, n] for m in range(j, j+box_length) for n in range(k, k+box_length)]\n",
    "            array = np.array(array)\n",
    "            moment1 = array.mean()\n",
    "            array_s = [i**2 for i in array]\n",
    "            array_s = np.array(array_s)\n",
    "            moment2 = array_s.mean()\n",
    "            lacu = moment2 / (moment1**2)\n",
    "            lacus.append(lacu)\n",
    "            \n",
    "    lacus = np.array(lacus)\n",
    "    lacus_box[i-1] = lacus.mean()\n",
    "    \n",
    "#计算最后一个盒子，即 整个盒子为一个格子的情况\n",
    "moment1 = q_u.mean()\n",
    "array_s = [i**2 for i in q_u]\n",
    "array_s = np.array(array_s)\n",
    "moment2 = array_s.mean()\n",
    "lacus_box[-1] = moment2 / (moment1**2)"
   ]
  },
  {
   "cell_type": "code",
   "execution_count": 8,
   "metadata": {},
   "outputs": [
    {
     "data": {
      "text/plain": [
       "array([1.02892313, 1.06311768, 1.10515582, 1.15989261, 1.23558021,\n",
       "       1.25233695, 1.25762302, 1.25958652, 1.2603082 ])"
      ]
     },
     "execution_count": 8,
     "metadata": {},
     "output_type": "execute_result"
    }
   ],
   "source": [
    "lacus_box"
   ]
  },
  {
   "cell_type": "markdown",
   "metadata": {},
   "source": [
    "### 全连通模型"
   ]
  },
  {
   "cell_type": "code",
   "execution_count": 9,
   "metadata": {},
   "outputs": [],
   "source": [
    "lacus_box = np.zeros((9,))\n",
    "\n",
    "# 遍历前8个盒子\n",
    "for i in range(1, 9):\n",
    "    box_length = i+1\n",
    "    lacus = []\n",
    "    \n",
    "    # 一定大小的盒子遍历一定位置\n",
    "    for j in range(10-i):\n",
    "        for k in range(10-i):\n",
    "            array = [q_f[m, n] for m in range(j, j+box_length) for n in range(k, k+box_length)]\n",
    "            array = np.array(array)\n",
    "            moment1 = array.mean()\n",
    "            array_s = [i**2 for i in array]\n",
    "            array_s = np.array(array_s)\n",
    "            moment2 = array_s.mean()\n",
    "            lacu = moment2 / (moment1**2)\n",
    "            lacus.append(lacu)\n",
    "            \n",
    "    lacus = np.array(lacus)\n",
    "    lacus_box[i-1] = lacus.mean()\n",
    "    \n",
    "#计算最后一个盒子，即 整个盒子为一个格子的情况\n",
    "moment1 = q_f.mean()\n",
    "array_s = [i**2 for i in q_f]\n",
    "array_s = np.array(array_s)\n",
    "moment2 = array_s.mean()\n",
    "lacus_box[-1] = moment2 / (moment1**2)"
   ]
  },
  {
   "cell_type": "code",
   "execution_count": 10,
   "metadata": {},
   "outputs": [
    {
     "data": {
      "text/plain": [
       "array([1.00158116, 1.00459543, 1.00925423, 1.01553967, 1.02305101,\n",
       "       1.03102163, 1.03872882, 1.04565493, 1.05145242])"
      ]
     },
     "execution_count": 10,
     "metadata": {},
     "output_type": "execute_result"
    }
   ],
   "source": [
    "lacus_box"
   ]
  },
  {
   "cell_type": "code",
   "execution_count": 11,
   "metadata": {},
   "outputs": [
    {
     "data": {
      "text/plain": [
       "1.9493812956766215e-16"
      ]
     },
     "execution_count": 11,
     "metadata": {},
     "output_type": "execute_result"
    }
   ],
   "source": [
    "moment2"
   ]
  },
  {
   "cell_type": "markdown",
   "metadata": {},
   "source": [
    "以上计算结果表明，不同观测尺度下，单向通道模型入口流量分布的缺项值大于全连通模型的缺项值，所以我在论文中认为，\n",
    "\n",
    "> 增加连通性有助于减弱模型的非均质性。\n",
    "\n",
    "现在想想这一结论是有问题的。因为单向通道模型入口流量的离差（极大值与极小值的差）本身就比全连通模型大，所以无法判断是因为离差减小导致非均质性减弱，还是由于由突变界面变为渐变界面导致的非均质性减弱。第六小节将对这两组数据进行新的处理，使两组入口流量数据的离差相等，在此基础上判断，\n",
    "\n",
    "> 将突变界面更改为渐变界面能否使非均质性减弱。"
   ]
  },
  {
   "cell_type": "markdown",
   "metadata": {},
   "source": [
    "## 根据 方差和均值 计算\n",
    "\n",
    "由于公式（3）得出了方差与缺项的关系，所以这一小节从方差入手计算缺项，与第四小节进行比较。"
   ]
  },
  {
   "cell_type": "code",
   "execution_count": 12,
   "metadata": {},
   "outputs": [],
   "source": [
    "i = 2\n",
    "j = 5\n",
    "k = 5\n",
    "array = [q_u[m, n] for m in range(5, 5+3) for n in range(5, 5+3)]"
   ]
  },
  {
   "cell_type": "code",
   "execution_count": 13,
   "metadata": {},
   "outputs": [],
   "source": [
    "array = np.array(array)\n",
    "exp = array.mean()\n",
    "var = np.var(array)\n",
    "lacu = var / exp**2 + 1"
   ]
  },
  {
   "cell_type": "code",
   "execution_count": 14,
   "metadata": {},
   "outputs": [
    {
     "data": {
      "text/plain": [
       "numpy.ndarray"
      ]
     },
     "execution_count": 14,
     "metadata": {},
     "output_type": "execute_result"
    }
   ],
   "source": [
    "type(array)"
   ]
  },
  {
   "cell_type": "markdown",
   "metadata": {},
   "source": [
    "### 单向通道模型"
   ]
  },
  {
   "cell_type": "code",
   "execution_count": 15,
   "metadata": {},
   "outputs": [],
   "source": [
    "lacus_box = np.zeros((9,))\n",
    "\n",
    "# 遍历前8个盒子\n",
    "for i in range(1, 9):\n",
    "    box_length = i+1\n",
    "    lacus = []\n",
    "    \n",
    "    # 一定大小的盒子遍历一定位置\n",
    "    for j in range(10-i):\n",
    "        for k in range(10-i):\n",
    "            array = [q_u[m, n] for m in range(j, j+box_length) for n in range(k, k+box_length)]\n",
    "            array = np.array(array)\n",
    "            exp = np.mean(array)\n",
    "            var = np.var(array)\n",
    "            lacu = var / exp**2 + 1\n",
    "            lacus.append(lacu)\n",
    "            \n",
    "    lacus = np.array(lacus)\n",
    "    lacus_box[i-1] = lacus.mean()\n",
    "    \n",
    "#计算最后一个盒子，即 整个盒子为一个格子的情况\n",
    "exp = q_u.mean()\n",
    "var = q_u.var()\n",
    "lacus_box[-1] = var / exp**2 +1"
   ]
  },
  {
   "cell_type": "code",
   "execution_count": 16,
   "metadata": {},
   "outputs": [
    {
     "data": {
      "text/plain": [
       "array([1.02892313, 1.06311768, 1.10515582, 1.15989261, 1.23558021,\n",
       "       1.25233695, 1.25762302, 1.25958652, 1.2603082 ])"
      ]
     },
     "execution_count": 16,
     "metadata": {},
     "output_type": "execute_result"
    }
   ],
   "source": [
    "lacus_box"
   ]
  },
  {
   "cell_type": "markdown",
   "metadata": {},
   "source": [
    "### 全连通模型"
   ]
  },
  {
   "cell_type": "code",
   "execution_count": 17,
   "metadata": {},
   "outputs": [],
   "source": [
    "lacus_box = np.zeros((9,))\n",
    "\n",
    "# 遍历前8个盒子\n",
    "for i in range(1, 9):\n",
    "    box_length = i+1\n",
    "    lacus = []\n",
    "    \n",
    "    # 一定大小的盒子遍历一定位置\n",
    "    for j in range(10-i):\n",
    "        for k in range(10-i):\n",
    "            array = [q_f[m, n] for m in range(j, j+box_length) for n in range(k, k+box_length)]\n",
    "            array = np.array(array)\n",
    "            exp = np.mean(array)\n",
    "            var = np.var(array)\n",
    "            lacu = var / exp**2 + 1\n",
    "            lacus.append(lacu)\n",
    "            \n",
    "    lacus = np.array(lacus)\n",
    "    lacus_box[i-1] = lacus.mean()\n",
    "    \n",
    "#计算最后一个盒子，即 整个盒子为一个格子的情况\n",
    "exp = q_f.mean()\n",
    "var = q_f.var()\n",
    "lacus_box[-1] = var / exp**2 +1"
   ]
  },
  {
   "cell_type": "code",
   "execution_count": 18,
   "metadata": {},
   "outputs": [
    {
     "data": {
      "text/plain": [
       "array([1.00158116, 1.00459543, 1.00925423, 1.01553967, 1.02305101,\n",
       "       1.03102163, 1.03872882, 1.04565493, 1.05145242])"
      ]
     },
     "execution_count": 18,
     "metadata": {},
     "output_type": "execute_result"
    }
   ],
   "source": [
    "lacus_box"
   ]
  },
  {
   "cell_type": "markdown",
   "metadata": {},
   "source": [
    "对比结果说明，方差计算与统计矩计算的结果是一直的。"
   ]
  },
  {
   "cell_type": "markdown",
   "metadata": {},
   "source": [
    "## 将两组数据缩放到具有相同的离差\n",
    "\n",
    "将最小值替换为 0，最大值替换为 1。其他部分等比例缩放。"
   ]
  },
  {
   "cell_type": "code",
   "execution_count": 30,
   "metadata": {},
   "outputs": [
    {
     "data": {
      "text/plain": [
       "6.18888795e-09"
      ]
     },
     "execution_count": 30,
     "metadata": {},
     "output_type": "execute_result"
    },
    {
     "data": {
      "text/plain": [
       "1.90824045e-08"
      ]
     },
     "execution_count": 30,
     "metadata": {},
     "output_type": "execute_result"
    },
    {
     "data": {
      "text/plain": [
       "1.289351655e-08"
      ]
     },
     "execution_count": 30,
     "metadata": {},
     "output_type": "execute_result"
    }
   ],
   "source": [
    "q_u_min = np.min(q_u)\n",
    "q_u_max = np.max(q_u)\n",
    "\n",
    "q_u_min\n",
    "q_u_max\n",
    "q_u_max - q_u_min"
   ]
  },
  {
   "cell_type": "code",
   "execution_count": 20,
   "metadata": {},
   "outputs": [
    {
     "data": {
      "text/plain": [
       "array([[0., 0., 0., 0., 0., 1., 1., 1., 1., 1.],\n",
       "       [0., 0., 0., 0., 0., 1., 1., 1., 1., 1.],\n",
       "       [0., 0., 0., 0., 0., 1., 1., 1., 1., 1.],\n",
       "       [0., 0., 0., 0., 0., 1., 1., 1., 1., 1.],\n",
       "       [0., 0., 0., 0., 0., 1., 1., 1., 1., 1.],\n",
       "       [0., 0., 0., 0., 0., 1., 1., 1., 1., 1.],\n",
       "       [0., 0., 0., 0., 0., 1., 1., 1., 1., 1.],\n",
       "       [0., 0., 0., 0., 0., 1., 1., 1., 1., 1.],\n",
       "       [0., 0., 0., 0., 0., 1., 1., 1., 1., 1.],\n",
       "       [0., 0., 0., 0., 0., 1., 1., 1., 1., 1.]])"
      ]
     },
     "execution_count": 20,
     "metadata": {},
     "output_type": "execute_result"
    }
   ],
   "source": [
    "q_u_scale = (q_u - q_u_min)/(q_u_max - q_u_min)\n",
    "q_u_scale"
   ]
  },
  {
   "cell_type": "code",
   "execution_count": 31,
   "metadata": {},
   "outputs": [
    {
     "data": {
      "text/plain": [
       "9.26545122e-09"
      ]
     },
     "execution_count": 31,
     "metadata": {},
     "output_type": "execute_result"
    },
    {
     "data": {
      "text/plain": [
       "1.76075964e-08"
      ]
     },
     "execution_count": 31,
     "metadata": {},
     "output_type": "execute_result"
    },
    {
     "data": {
      "text/plain": [
       "8.342145180000001e-09"
      ]
     },
     "execution_count": 31,
     "metadata": {},
     "output_type": "execute_result"
    }
   ],
   "source": [
    "q_f_min = np.min(q_f)\n",
    "q_f_max = np.max(q_f)\n",
    "\n",
    "q_f_min\n",
    "q_f_max\n",
    "q_f_max - q_f_min"
   ]
  },
  {
   "cell_type": "code",
   "execution_count": 22,
   "metadata": {},
   "outputs": [
    {
     "data": {
      "text/plain": [
       "array([[0.        , 0.04558759, 0.13812564, 0.27708881, 0.45290734,\n",
       "        0.63827085, 0.79263696, 0.90190304, 0.96877566, 1.        ],\n",
       "       [0.        , 0.04558759, 0.13812564, 0.27708881, 0.45290734,\n",
       "        0.63827085, 0.79263696, 0.90190304, 0.96877566, 1.        ],\n",
       "       [0.        , 0.04558759, 0.13812564, 0.27708881, 0.45290734,\n",
       "        0.63827085, 0.79263696, 0.90190304, 0.96877566, 1.        ],\n",
       "       [0.        , 0.04558759, 0.13812564, 0.27708881, 0.45290734,\n",
       "        0.63827085, 0.79263696, 0.90190304, 0.96877566, 1.        ],\n",
       "       [0.        , 0.04558759, 0.13812564, 0.27708881, 0.45290734,\n",
       "        0.63827085, 0.79263696, 0.90190304, 0.96877566, 1.        ],\n",
       "       [0.        , 0.04558759, 0.13812564, 0.27708881, 0.45290734,\n",
       "        0.63827085, 0.79263696, 0.90190304, 0.96877566, 1.        ],\n",
       "       [0.        , 0.04558759, 0.13812564, 0.27708881, 0.45290734,\n",
       "        0.63827085, 0.79263696, 0.90190304, 0.96877566, 1.        ],\n",
       "       [0.        , 0.04558759, 0.13812564, 0.27708881, 0.45290734,\n",
       "        0.63827085, 0.79263696, 0.90190304, 0.96877566, 1.        ],\n",
       "       [0.        , 0.04558759, 0.13812564, 0.27708881, 0.45290734,\n",
       "        0.63827085, 0.79263696, 0.90190304, 0.96877566, 1.        ],\n",
       "       [0.        , 0.04558759, 0.13812564, 0.27708881, 0.45290734,\n",
       "        0.63827085, 0.79263696, 0.90190304, 0.96877566, 1.        ]])"
      ]
     },
     "execution_count": 22,
     "metadata": {},
     "output_type": "execute_result"
    }
   ],
   "source": [
    "q_f_scale = (q_f - q_f_min)/(q_f_max - q_f_min)\n",
    "q_f_scale"
   ]
  },
  {
   "cell_type": "markdown",
   "metadata": {},
   "source": [
    "### 归一化后的单向通道模型"
   ]
  },
  {
   "cell_type": "code",
   "execution_count": 28,
   "metadata": {},
   "outputs": [],
   "source": [
    "lacus_box = np.zeros((9,))\n",
    "\n",
    "# 遍历前8个盒子\n",
    "for i in range(1, 9):\n",
    "    box_length = i+1\n",
    "    lacus = []\n",
    "    \n",
    "    # 一定大小的盒子遍历一定位置\n",
    "    for j in range(10-i):\n",
    "        for k in range(10-i):\n",
    "            array = [q_u_scale[m, n] for m in range(j, j+box_length) for n in range(k, k+box_length)]\n",
    "            array = np.array(array)\n",
    "            moment1 = array.mean()\n",
    "            array_s = [i**2 for i in array]\n",
    "            array_s = np.array(array_s)\n",
    "            moment2 = array_s.mean()\n",
    "            if (moment2==0):\n",
    "                lacu = 1\n",
    "            else:\n",
    "                lacu = moment2 / (moment1**2)\n",
    "            lacus.append(lacu)\n",
    "            \n",
    "    lacus = np.array(lacus)\n",
    "    lacus_box[i-1] = lacus.mean()\n",
    "    \n",
    "#计算最后一个盒子，即 整个盒子为一个格子的情况\n",
    "moment1 = q_u_scale.mean()\n",
    "array_s = [i**2 for i in q_u_scale]\n",
    "array_s = np.array(array_s)\n",
    "moment2 = array_s.mean()\n",
    "lacus_box[-1] = moment2 / (moment1**2)"
   ]
  },
  {
   "cell_type": "code",
   "execution_count": 29,
   "metadata": {},
   "outputs": [
    {
     "data": {
      "text/plain": [
       "array([1.11111111, 1.3125    , 1.61904762, 2.06944444, 2.74      ,\n",
       "       2.24583333, 2.08888889, 2.025     , 2.        ])"
      ]
     },
     "execution_count": 29,
     "metadata": {},
     "output_type": "execute_result"
    }
   ],
   "source": [
    "lacus_box"
   ]
  },
  {
   "cell_type": "markdown",
   "metadata": {},
   "source": [
    "### 归一化后的全连通模型"
   ]
  },
  {
   "cell_type": "code",
   "execution_count": 25,
   "metadata": {},
   "outputs": [],
   "source": [
    "lacus_box = np.zeros((9,))\n",
    "\n",
    "# 遍历前8个盒子\n",
    "for i in range(1, 9):\n",
    "    box_length = i+1\n",
    "    lacus = []\n",
    "    \n",
    "    # 一定大小的盒子遍历一定位置\n",
    "    for j in range(10-i):\n",
    "        for k in range(10-i):\n",
    "            array = [q_f_scale[m, n] for m in range(j, j+box_length) for n in range(k, k+box_length)]\n",
    "            array = np.array(array)\n",
    "            moment1 = array.mean()\n",
    "            array_s = [i**2 for i in array]\n",
    "            array_s = np.array(array_s)\n",
    "            moment2 = array_s.mean()\n",
    "            lacu = moment2 / (moment1**2)\n",
    "            lacus.append(lacu)\n",
    "            \n",
    "    lacus = np.array(lacus)\n",
    "    lacus_box[i-1] = lacus.mean()\n",
    "    \n",
    "#计算最后一个盒子，即 整个盒子为一个格子的情况\n",
    "moment1 = q_f_scale.mean()\n",
    "array_s = [i**2 for i in q_f_scale]\n",
    "array_s = np.array(array_s)\n",
    "moment2 = array_s.mean()\n",
    "lacus_box[-1] = moment2 / (moment1**2)"
   ]
  },
  {
   "cell_type": "code",
   "execution_count": 26,
   "metadata": {},
   "outputs": [
    {
     "data": {
      "text/plain": [
       "array([1.1633248 , 1.20546184, 1.25193316, 1.29585072, 1.33657412,\n",
       "       1.37568491, 1.4163018 , 1.45951066, 1.50396404])"
      ]
     },
     "execution_count": 26,
     "metadata": {},
     "output_type": "execute_result"
    }
   ],
   "source": [
    "lacus_box"
   ]
  },
  {
   "cell_type": "code",
   "execution_count": 27,
   "metadata": {},
   "outputs": [
    {
     "data": {
      "text/plain": [
       "0.5215295882683258"
      ]
     },
     "execution_count": 27,
     "metadata": {},
     "output_type": "execute_result"
    },
    {
     "data": {
      "text/plain": [
       "0.4090678575587917"
      ]
     },
     "execution_count": 27,
     "metadata": {},
     "output_type": "execute_result"
    }
   ],
   "source": [
    "moment1\n",
    "moment2"
   ]
  },
  {
   "cell_type": "markdown",
   "metadata": {},
   "source": [
    "这样对比的结果表明，连通性增加以后，非均质性确实减弱了。\n",
    "\n",
    "> 离差相等的情况下，突变界面变为渐变界面后，模型的非均质性减弱。"
   ]
  }
 ],
 "metadata": {
  "kernelspec": {
   "display_name": "Python 3",
   "language": "python",
   "name": "python3"
  },
  "language_info": {
   "codemirror_mode": {
    "name": "ipython",
    "version": 3
   },
   "file_extension": ".py",
   "mimetype": "text/x-python",
   "name": "python",
   "nbconvert_exporter": "python",
   "pygments_lexer": "ipython3",
   "version": "3.7.3"
  },
  "latex_envs": {
   "LaTeX_envs_menu_present": true,
   "autoclose": false,
   "autocomplete": true,
   "bibliofile": "biblio.bib",
   "cite_by": "apalike",
   "current_citInitial": 1,
   "eqLabelWithNumbers": true,
   "eqNumInitial": 1,
   "hotkeys": {
    "equation": "Ctrl-E",
    "itemize": "Ctrl-I"
   },
   "labels_anchors": false,
   "latex_user_defs": false,
   "report_style_numbering": false,
   "user_envs_cfg": false
  },
  "toc": {
   "base_numbering": 1,
   "nav_menu": {},
   "number_sections": true,
   "sideBar": true,
   "skip_h1_title": true,
   "title_cell": "Table of Contents",
   "title_sidebar": "Contents",
   "toc_cell": false,
   "toc_position": {
    "height": "calc(100% - 180px)",
    "left": "10px",
    "top": "150px",
    "width": "180.725px"
   },
   "toc_section_display": true,
   "toc_window_display": true
  }
 },
 "nbformat": 4,
 "nbformat_minor": 2
}
