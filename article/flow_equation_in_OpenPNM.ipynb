{
 "cells": [
  {
   "cell_type": "markdown",
   "id": "10690306",
   "metadata": {},
   "source": [
    "# How to solve the flow equations in OpenPNM\n",
    "\n",
    "In this example, I will show how to solve the flow equations in OpenPNM\n",
    "\n",
    "$$\n",
    "Q = \\sum\\limits_{i = 1}^N {{q_i}}  = \\sum\\limits_{i = 1}^N {\\sum\\limits_{j = 1}^n {{g_{ij}}({P_j} - {P_i})} }  = 0\n",
    "$$"
   ]
  },
  {
   "cell_type": "markdown",
   "id": "1fbdaf23",
   "metadata": {},
   "source": [
    "First, construct a 2D PNM with 3 * 4 = 12 pores and 17 throats. \n",
    "\n",
    "This code script is run based on the version 2.5.0"
   ]
  },
  {
   "cell_type": "code",
   "execution_count": 2,
   "id": "cfe6ec13",
   "metadata": {},
   "outputs": [],
   "source": [
    "import numpy as np\n",
    "import openpnm as op\n",
    "import matplotlib.pyplot as plt\n",
    "import scipy as sp\n",
    "import openpnm.models as mods\n",
    "import openpnm.io.VTK as iovtk"
   ]
  },
  {
   "cell_type": "code",
   "execution_count": 3,
   "id": "83e845d3",
   "metadata": {},
   "outputs": [],
   "source": [
    "pn = op.network.Cubic(shape=[3, 4, 1], spacing=0.0001)  # pore center distance is 0.1 mm\n",
    "geo = op.geometry.GenericGeometry(network=pn, pores=pn.pores(),\n",
    "                                  throats=pn.throats(), name='geo')\n",
    "geo.add_model(propname='pore.seed',\n",
    "             model=mods.misc.random,\n",
    "             element='pore',\n",
    "             num_range=[0.2, 0.7],\n",
    "             seed=None)\n",
    "\n",
    "geo.add_model(propname='pore.max_size',\n",
    "              model=mods.geometry.pore_size.largest_sphere,\n",
    "              iters=10)\n",
    "\n",
    "geo.add_model(propname='pore.diameter',\n",
    "              model=mods.misc.product,\n",
    "              prop1='pore.max_size',\n",
    "              prop2='pore.seed')\n",
    "\n",
    "# set pore diameter is 50 microns\n",
    "geo['pore.diameter'] = geo['pore.diameter'].min()\n",
    "geo['pore.diameter'] =  5.00E-05\n",
    "geo['throat.diameter'] = 2.50E-5  # throat diameter is 25 microns"
   ]
  },
  {
   "cell_type": "code",
   "execution_count": 4,
   "id": "0251d88a",
   "metadata": {},
   "outputs": [],
   "source": [
    "geo.add_model(propname='pore.area',\n",
    "              model=mods.geometry.pore_area.sphere)\n",
    "\n",
    "geo.add_model(propname='pore.volume',\n",
    "              model=mods.geometry.pore_volume.sphere)\n",
    "\n",
    "geo.add_model(propname='throat.endpoints',\n",
    "              model=mods.geometry.throat_endpoints.spherical_pores,\n",
    "              pore_diameter='pore.diameter',\n",
    "              throat_diameter='throat.diameter')\n",
    "\n",
    "geo.add_model(propname='throat.length',\n",
    "              model=mods.geometry.throat_length.piecewise,\n",
    "              throat_endpoints='throat.endpoints')\n",
    "\n",
    "geo.add_model(propname='throat.conduit_lengths',\n",
    "              model=mods.geometry.throat_length.conduit_lengths,\n",
    "              throat_endpoints='throat.endpoints',\n",
    "              throat_length='throat.length')\n",
    "\n",
    "geo.add_model(propname='throat.volume',\n",
    "              model=mods.geometry.throat_volume.cylinder)\n",
    "\n",
    "geo.add_model(propname='throat.area',\n",
    "              model=mods.geometry.throat_area.cylinder)\n",
    "\n",
    "geo.add_model(propname='throat.surface_area',\n",
    "              model=mods.geometry.throat_surface_area.cylinder)\n",
    "\n",
    "geo['throat.radius'] = geo['throat.diameter'] / 2"
   ]
  },
  {
   "cell_type": "code",
   "execution_count": 5,
   "id": "58e862f3",
   "metadata": {},
   "outputs": [
    {
     "data": {
      "image/png": "[encoded data removed]",
      "text/plain": [
       "<Figure size 432x288 with 1 Axes>"
      ]
     },
     "execution_count": 5,
     "metadata": {},
     "output_type": "execute_result"
    },
    {
     "data": {
      "image/png": "[encoded data removed]",
      "text/plain": [
       "<Figure size 432x288 with 1 Axes>"
      ]
     },
     "metadata": {
      "needs_background": "light"
     },
     "output_type": "display_data"
    }
   ],
   "source": [
    "# quick plot\n",
    "fig = op.topotools.plot_coordinates(pn)\n",
    "op.topotools.plot_connections(pn, fig=fig)"
   ]
  },
  {
   "cell_type": "code",
   "execution_count": null,
   "id": "5b15e98f",
   "metadata": {},
   "outputs": [],
   "source": [
    "op.topotools.plot_tutorial(pn)"
   ]
  },
  {
   "cell_type": "markdown",
   "id": "e05d75de",
   "metadata": {},
   "source": [
    "The above figure shows the pore indicies in blue circles and throat indices in black squares."
   ]
  },
  {
   "cell_type": "code",
   "execution_count": 6,
   "id": "52021ae2",
   "metadata": {},
   "outputs": [],
   "source": [
    "water = op.phases.Water(network=pn)\n",
    "\n",
    "water.add_model(propname='throat.hydraulic_conductance',\n",
    "                model=op.models.physics.hydraulic_conductance.hagen_poiseuille)"
   ]
  },
  {
   "cell_type": "code",
   "execution_count": 7,
   "id": "acc70e63",
   "metadata": {},
   "outputs": [
    {
     "data": {
      "text/plain": [
       "array([101325., 101325., 101325., 101325., 101325., 101325., 101325.,\n",
       "       101325., 101325., 101325., 101325., 101325.])"
      ]
     },
     "execution_count": 7,
     "metadata": {},
     "output_type": "execute_result"
    }
   ],
   "source": [
    "water['pore.pressure']"
   ]
  },
  {
   "cell_type": "code",
   "execution_count": 8,
   "id": "f6a5f759",
   "metadata": {},
   "outputs": [
    {
     "data": {
      "text/plain": [
       "array([1.80689199e-13, 1.80689199e-13, 1.80689199e-13, 1.80689199e-13,\n",
       "       1.80689199e-13, 1.80689199e-13, 1.80689199e-13, 1.80689199e-13,\n",
       "       1.80689199e-13, 1.80689199e-13, 1.80689199e-13, 1.80689199e-13,\n",
       "       1.80689199e-13, 1.80689199e-13, 1.80689199e-13, 1.80689199e-13,\n",
       "       1.80689199e-13])"
      ]
     },
     "execution_count": 8,
     "metadata": {},
     "output_type": "execute_result"
    }
   ],
   "source": [
    "water['throat.hydraulic_conductance']"
   ]
  },
  {
   "cell_type": "code",
   "execution_count": 9,
   "id": "349126de",
   "metadata": {},
   "outputs": [],
   "source": [
    "inlets = [3, 7, 11]\n",
    "outlets = [0, 4, 8]"
   ]
  },
  {
   "cell_type": "code",
   "execution_count": 10,
   "id": "e741d7e2",
   "metadata": {},
   "outputs": [],
   "source": [
    "flow = op.algorithms.StokesFlow(network=pn, phase=water)\n",
    "flow.set_value_BC(pores=inlets, values=20)\n",
    "flow.set_value_BC(pores=outlets, values=10)\n",
    "flow.setup(phase= water, quantity='pore.pressure', conductance='throat.hydraulic_conductance')\n",
    "\n",
    "flow.run()"
   ]
  },
  {
   "cell_type": "code",
   "execution_count": 11,
   "id": "374199f1",
   "metadata": {},
   "outputs": [
    {
     "data": {
      "text/plain": [
       "array([10.        , 13.33333333, 16.66666667, 20.        , 10.        ,\n",
       "       13.33333333, 16.66666667, 20.        , 10.        , 13.33333333,\n",
       "       16.66666667, 20.        ])"
      ]
     },
     "execution_count": 11,
     "metadata": {},
     "output_type": "execute_result"
    }
   ],
   "source": [
    "flow['pore.pressure']"
   ]
  },
  {
   "cell_type": "markdown",
   "id": "90a7b58a",
   "metadata": {},
   "source": [
    "sparse matrix, (i, j) means, pores i and j are connected."
   ]
  },
  {
   "cell_type": "code",
   "execution_count": 12,
   "id": "c5d4e533",
   "metadata": {},
   "outputs": [
    {
     "name": "stdout",
     "output_type": "stream",
     "text": [
      "  (1, 2)\t-1.8068919869130543e-13\n",
      "  (5, 6)\t-1.8068919869130543e-13\n",
      "  (9, 10)\t-1.8068919869130543e-13\n",
      "  (1, 5)\t-1.8068919869130536e-13\n",
      "  (2, 6)\t-1.8068919869130536e-13\n",
      "  (5, 9)\t-1.8068919869130543e-13\n",
      "  (6, 10)\t-1.8068919869130543e-13\n",
      "  (2, 1)\t-1.8068919869130543e-13\n",
      "  (6, 5)\t-1.8068919869130543e-13\n",
      "  (10, 9)\t-1.8068919869130543e-13\n",
      "  (5, 1)\t-1.8068919869130536e-13\n",
      "  (6, 2)\t-1.8068919869130536e-13\n",
      "  (9, 5)\t-1.8068919869130543e-13\n",
      "  (10, 6)\t-1.8068919869130543e-13\n",
      "  (0, 0)\t5.119527296253653e-13\n",
      "  (1, 1)\t5.420675960739162e-13\n",
      "  (2, 2)\t5.420675960739162e-13\n",
      "  (3, 3)\t5.119527296253653e-13\n",
      "  (4, 4)\t5.119527296253653e-13\n",
      "  (5, 5)\t7.227567947652215e-13\n",
      "  (6, 6)\t7.227567947652216e-13\n",
      "  (7, 7)\t5.119527296253653e-13\n",
      "  (8, 8)\t5.119527296253653e-13\n",
      "  (9, 9)\t5.420675960739162e-13\n",
      "  (10, 10)\t5.420675960739163e-13\n",
      "  (11, 11)\t5.119527296253653e-13\n"
     ]
    }
   ],
   "source": [
    "print(flow.A)"
   ]
  },
  {
   "cell_type": "code",
   "execution_count": 13,
   "id": "cb0547f5",
   "metadata": {},
   "outputs": [
    {
     "data": {
      "text/plain": [
       "(12, 12)"
      ]
     },
     "execution_count": 13,
     "metadata": {},
     "output_type": "execute_result"
    }
   ],
   "source": [
    "A_array = flow.A.todense()\n",
    "A_array.shape"
   ]
  },
  {
   "cell_type": "code",
   "execution_count": 14,
   "id": "f985f7c0",
   "metadata": {},
   "outputs": [
    {
     "data": {
      "text/plain": [
       "array([5.11952730e-12, 1.80689199e-12, 3.61378397e-12, 1.02390546e-11,\n",
       "       5.11952730e-12, 1.80689199e-12, 3.61378397e-12, 1.02390546e-11,\n",
       "       5.11952730e-12, 1.80689199e-12, 3.61378397e-12, 1.02390546e-11])"
      ]
     },
     "execution_count": 14,
     "metadata": {},
     "output_type": "execute_result"
    }
   ],
   "source": [
    "flow.b"
   ]
  },
  {
   "cell_type": "code",
   "execution_count": 15,
   "id": "c43a49d7",
   "metadata": {},
   "outputs": [
    {
     "data": {
      "text/plain": [
       "(12,)"
      ]
     },
     "execution_count": 15,
     "metadata": {},
     "output_type": "execute_result"
    }
   ],
   "source": [
    "flow.b.shape"
   ]
  },
  {
   "cell_type": "markdown",
   "id": "d7f30e0f",
   "metadata": {},
   "source": [
    "The sparse matrix $Ax=b$ is solved using [Pardiso](https://www.pardiso-project.org/)."
   ]
  },
  {
   "cell_type": "code",
   "execution_count": 16,
   "id": "e3c6be37",
   "metadata": {},
   "outputs": [],
   "source": [
    "np.savetxt('matrix_a.txt', A_array)"
   ]
  },
  {
   "cell_type": "markdown",
   "id": "3de91cce",
   "metadata": {},
   "source": [
    "## below is the code script by OpenPNM developers\n",
    "\n",
    "https://github.com/PMEAL/OpenPNM/discussions/2227"
   ]
  },
  {
   "cell_type": "code",
   "execution_count": 17,
   "id": "efe0f87c",
   "metadata": {},
   "outputs": [
    {
     "name": "stdout",
     "output_type": "stream",
     "text": [
      "[0. 0. 0. 0. 0. 0. 0. 0. 0.]\n",
      "[[ 2. -1.  0. -1.  0.  0.  0.  0.  0.]\n",
      " [-1.  3. -1.  0. -1.  0.  0.  0.  0.]\n",
      " [ 0. -1.  2.  0.  0. -1.  0.  0.  0.]\n",
      " [-1.  0.  0.  3. -1.  0. -1.  0.  0.]\n",
      " [ 0. -1.  0. -1.  4. -1.  0. -1.  0.]\n",
      " [ 0.  0. -1.  0. -1.  3.  0.  0. -1.]\n",
      " [ 0.  0.  0. -1.  0.  0.  2. -1.  0.]\n",
      " [ 0.  0.  0.  0. -1.  0. -1.  3. -1.]\n",
      " [ 0.  0.  0.  0.  0. -1.  0. -1.  2.]]\n",
      "[2. 3. 2. 3. 4. 3. 2. 3. 2.]\n",
      "2.6666666666666665\n",
      "[2.66666667 2.66666667 2.66666667 1.         1.         1.\n",
      " 0.         0.         0.        ]\n"
     ]
    }
   ],
   "source": [
    "import openpnm as op\n",
    "import numpy as np\n",
    "\n",
    "pn = op.network.Cubic([3, 3, 1])\n",
    "a = op.phases.GenericPhase(network=pn)\n",
    "a['throat.hydraulic_conductance'] = 1.0\n",
    "sf = op.algorithms.StokesFlow(network=pn, phase=a)\n",
    "sf.set_value_BC(pores=[0, 1, 2], values=1.0)\n",
    "sf.set_value_BC(pores=[6, 7, 8], values=0.0)\n",
    "print(sf.b)  # will be all zeros since we haven't actually set the BC yet\n",
    "print(sf.A.todense())  # will be easily readable since the g_h values are just 1.0's\n",
    "diag = sf.A.diagonal()  # Let's get a copy of the diagonal, which is used to compute f\n",
    "print(diag)\n",
    "f = np.mean(diag)\n",
    "print(f)  # This has not been altered yet\n",
    "sf._apply_BCs()  # A private method that get's called when you run sf\n",
    "print(sf.b)  # Will now have some values in it"
   ]
  },
  {
   "cell_type": "code",
   "execution_count": 18,
   "id": "22899a41",
   "metadata": {},
   "outputs": [
    {
     "name": "stdout",
     "output_type": "stream",
     "text": [
      "[2.66666667 2.66666667 2.66666667 3.         4.         3.\n",
      " 2.66666667 2.66666667 2.66666667]\n",
      "[1.    1.    1.    0.375 0.375 0.375 0.    0.    0.   ]\n"
     ]
    }
   ],
   "source": [
    "diag = sf.A.diagonal()\n",
    "print(diag)  # This has been altered by the application of the value BCs\n",
    "print(sf.b / f)  # This should give the b values as I described previously, showing the BCs"
   ]
  },
  {
   "cell_type": "code",
   "execution_count": null,
   "id": "d7e53851",
   "metadata": {},
   "outputs": [],
   "source": []
  }
 ],
 "metadata": {
  "kernelspec": {
   "display_name": "Python [conda env:openpnm-2-5]",
   "language": "python",
   "name": "conda-env-openpnm-2-5-py"
  },
  "language_info": {
   "codemirror_mode": {
    "name": "ipython",
    "version": 3
   },
   "file_extension": ".py",
   "mimetype": "text/x-python",
   "name": "python",
   "nbconvert_exporter": "python",
   "pygments_lexer": "ipython3",
   "version": "3.7.3"
  },
  "latex_envs": {
   "LaTeX_envs_menu_present": true,
   "autoclose": false,
   "autocomplete": true,
   "bibliofile": "biblio.bib",
   "cite_by": "apalike",
   "current_citInitial": 1,
   "eqLabelWithNumbers": true,
   "eqNumInitial": 1,
   "hotkeys": {
    "equation": "Ctrl-E",
    "itemize": "Ctrl-I"
   },
   "labels_anchors": false,
   "latex_user_defs": false,
   "report_style_numbering": false,
   "user_envs_cfg": false
  },
  "toc": {
   "base_numbering": 1,
   "nav_menu": {},
   "number_sections": true,
   "sideBar": true,
   "skip_h1_title": true,
   "title_cell": "Table of Contents",
   "title_sidebar": "Contents",
   "toc_cell": false,
   "toc_position": {},
   "toc_section_display": true,
   "toc_window_display": false
  }
 },
 "nbformat": 4,
 "nbformat_minor": 5
}
